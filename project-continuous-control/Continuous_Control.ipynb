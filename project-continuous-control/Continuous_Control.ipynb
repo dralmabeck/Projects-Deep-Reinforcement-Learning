{
 "cells": [
  {
   "cell_type": "markdown",
   "metadata": {},
   "source": [
    "# Continuous Control\n",
    "\n",
    "---\n",
    "\n",
    "In this notebook, you will learn how to use the Unity ML-Agents environment for the second project of the [Deep Reinforcement Learning Nanodegree](https://www.udacity.com/course/deep-reinforcement-learning-nanodegree--nd893) program.\n",
    "\n",
    "### 1. Start the Environment\n",
    "\n",
    "We begin by importing the necessary packages.  If the code cell below returns an error, please revisit the project instructions to double-check that you have installed [Unity ML-Agents](https://github.com/Unity-Technologies/ml-agents/blob/master/docs/Installation.md) and [NumPy](http://www.numpy.org/)."
   ]
  },
  {
   "cell_type": "code",
   "execution_count": 1,
   "metadata": {},
   "outputs": [
    {
     "name": "stdout",
     "output_type": "stream",
     "text": [
      "\u001b[31mtensorflow 1.7.1 has requirement numpy>=1.13.3, but you'll have numpy 1.12.1 which is incompatible.\u001b[0m\r\n",
      "\u001b[31mipython 6.5.0 has requirement prompt-toolkit<2.0.0,>=1.0.15, but you'll have prompt-toolkit 3.0.5 which is incompatible.\u001b[0m\r\n"
     ]
    }
   ],
   "source": [
    "!pip -q install ./python"
   ]
  },
  {
   "cell_type": "code",
   "execution_count": 2,
   "metadata": {},
   "outputs": [],
   "source": [
    "from unityagents import UnityEnvironment\n",
    "import numpy as np"
   ]
  },
  {
   "cell_type": "markdown",
   "metadata": {},
   "source": [
    "Next, we will start the environment!  **_Before running the code cell below_**, change the `file_name` parameter to match the location of the Unity environment that you downloaded.\n",
    "\n",
    "- **Mac**: `\"path/to/Reacher.app\"`\n",
    "- **Windows** (x86): `\"path/to/Reacher_Windows_x86/Reacher.exe\"`\n",
    "- **Windows** (x86_64): `\"path/to/Reacher_Windows_x86_64/Reacher.exe\"`\n",
    "- **Linux** (x86): `\"path/to/Reacher_Linux/Reacher.x86\"`\n",
    "- **Linux** (x86_64): `\"path/to/Reacher_Linux/Reacher.x86_64\"`\n",
    "- **Linux** (x86, headless): `\"path/to/Reacher_Linux_NoVis/Reacher.x86\"`\n",
    "- **Linux** (x86_64, headless): `\"path/to/Reacher_Linux_NoVis/Reacher.x86_64\"`\n",
    "\n",
    "For instance, if you are using a Mac, then you downloaded `Reacher.app`.  If this file is in the same folder as the notebook, then the line below should appear as follows:\n",
    "```\n",
    "env = UnityEnvironment(file_name=\"Reacher.app\")\n",
    "```"
   ]
  },
  {
   "cell_type": "code",
   "execution_count": 3,
   "metadata": {},
   "outputs": [
    {
     "name": "stderr",
     "output_type": "stream",
     "text": [
      "INFO:unityagents:\n",
      "'Academy' started successfully!\n",
      "Unity Academy name: Academy\n",
      "        Number of Brains: 1\n",
      "        Number of External Brains : 1\n",
      "        Lesson number : 0\n",
      "        Reset Parameters :\n",
      "\t\tgoal_speed -> 1.0\n",
      "\t\tgoal_size -> 5.0\n",
      "Unity brain name: ReacherBrain\n",
      "        Number of Visual Observations (per agent): 0\n",
      "        Vector Observation space type: continuous\n",
      "        Vector Observation space size (per agent): 33\n",
      "        Number of stacked Vector Observation: 1\n",
      "        Vector Action space type: continuous\n",
      "        Vector Action space size (per agent): 4\n",
      "        Vector Action descriptions: , , , \n"
     ]
    }
   ],
   "source": [
    "#env.close()\n",
    "env = UnityEnvironment(file_name='/data/Reacher_Linux_NoVis/Reacher.x86_64')"
   ]
  },
  {
   "cell_type": "markdown",
   "metadata": {},
   "source": [
    "Environments contain **_brains_** which are responsible for deciding the actions of their associated agents. Here we check for the first brain available, and set it as the default brain we will be controlling from Python."
   ]
  },
  {
   "cell_type": "code",
   "execution_count": 4,
   "metadata": {},
   "outputs": [],
   "source": [
    "# get the default brain\n",
    "brain_name = env.brain_names[0]\n",
    "brain = env.brains[brain_name]"
   ]
  },
  {
   "cell_type": "markdown",
   "metadata": {},
   "source": [
    "### 2. Examine the State and Action Spaces\n",
    "\n",
    "In this environment, a double-jointed arm can move to target locations. A reward of `+0.1` is provided for each step that the agent's hand is in the goal location. Thus, the goal of your agent is to maintain its position at the target location for as many time steps as possible.\n",
    "\n",
    "The observation space consists of `33` variables corresponding to position, rotation, velocity, and angular velocities of the arm.  Each action is a vector with four numbers, corresponding to torque applicable to two joints.  Every entry in the action vector must be a number between `-1` and `1`.\n",
    "\n",
    "Run the code cell below to print some information about the environment."
   ]
  },
  {
   "cell_type": "code",
   "execution_count": 5,
   "metadata": {},
   "outputs": [
    {
     "name": "stdout",
     "output_type": "stream",
     "text": [
      "Number of agents: 20\n",
      "Size of each action: 4\n",
      "There are 20 agents. Each observes a state with length: 33\n",
      "The state for the first agent looks like: [  0.00000000e+00  -4.00000000e+00   0.00000000e+00   1.00000000e+00\n",
      "  -0.00000000e+00  -0.00000000e+00  -4.37113883e-08   0.00000000e+00\n",
      "   0.00000000e+00   0.00000000e+00   0.00000000e+00   0.00000000e+00\n",
      "   0.00000000e+00   0.00000000e+00  -1.00000000e+01   0.00000000e+00\n",
      "   1.00000000e+00  -0.00000000e+00  -0.00000000e+00  -4.37113883e-08\n",
      "   0.00000000e+00   0.00000000e+00   0.00000000e+00   0.00000000e+00\n",
      "   0.00000000e+00   0.00000000e+00   5.75471878e+00  -1.00000000e+00\n",
      "   5.55726624e+00   0.00000000e+00   1.00000000e+00   0.00000000e+00\n",
      "  -1.68164849e-01]\n"
     ]
    }
   ],
   "source": [
    "# reset the environment\n",
    "env_info = env.reset(train_mode=True)[brain_name]\n",
    "\n",
    "# number of agents\n",
    "num_agents = len(env_info.agents)\n",
    "print('Number of agents:', num_agents)\n",
    "\n",
    "# size of each action\n",
    "action_size = brain.vector_action_space_size\n",
    "print('Size of each action:', action_size)\n",
    "\n",
    "# examine the state space \n",
    "states = env_info.vector_observations\n",
    "state_size = states.shape[1]\n",
    "print('There are {} agents. Each observes a state with length: {}'.format(states.shape[0], state_size))\n",
    "print('The state for the first agent looks like:', states[0])"
   ]
  },
  {
   "cell_type": "markdown",
   "metadata": {},
   "source": [
    "### 3. Take Random Actions in the Environment\n",
    "\n",
    "In the next code cell, you will learn how to use the Python API to control the agent and receive feedback from the environment.\n",
    "\n",
    "Once this cell is executed, you will watch the agent's performance, if it selects an action at random with each time step.  A window should pop up that allows you to observe the agent, as it moves through the environment.  \n",
    "\n",
    "Of course, as part of the project, you'll have to change the code so that the agent is able to use its experience to gradually choose better actions when interacting with the environment!"
   ]
  },
  {
   "cell_type": "code",
   "execution_count": 6,
   "metadata": {},
   "outputs": [],
   "source": [
    "#env_info = env.reset(train_mode=False)[brain_name]     # reset the environment    \n",
    "#states = env_info.vector_observations                  # get the current state (for each agent)\n",
    "#scores = np.zeros(num_agents)                          # initialize the score (for each agent)\n",
    "#while True:\n",
    "#    actions = np.random.randn(num_agents, action_size) # select an action (for each agent)\n",
    "#    actions = np.clip(actions, -1, 1)                  # all actions between -1 and 1\n",
    "#    env_info = env.step(actions)[brain_name]           # send all actions to tne environment\n",
    "#    next_states = env_info.vector_observations         # get next state (for each agent)\n",
    "#    rewards = env_info.rewards                         # get reward (for each agent)\n",
    "#    dones = env_info.local_done                        # see if episode finished\n",
    "#    scores += env_info.rewards                         # update the score (for each agent)\n",
    "#    states = next_states                               # roll over states to next time step\n",
    "#    if np.any(dones):                                  # exit loop if episode finished\n",
    "#        break\n",
    "#print('Total score (averaged over agents) this episode: {}'.format(np.mean(scores)))"
   ]
  },
  {
   "cell_type": "markdown",
   "metadata": {},
   "source": [
    "When finished, you can close the environment."
   ]
  },
  {
   "cell_type": "code",
   "execution_count": 7,
   "metadata": {},
   "outputs": [],
   "source": [
    "#env.close()"
   ]
  },
  {
   "cell_type": "markdown",
   "metadata": {},
   "source": [
    "### 4. It's Your Turn!\n",
    "\n",
    "Now it's your turn to train your own agent to solve the environment!  When training the environment, set `train_mode=True`, so that the line for resetting the environment looks like the following:\n",
    "```python\n",
    "env_info = env.reset(train_mode=True)[brain_name]\n",
    "```"
   ]
  },
  {
   "cell_type": "markdown",
   "metadata": {},
   "source": [
    "# Navigation - Student's project work"
   ]
  },
  {
   "cell_type": "markdown",
   "metadata": {},
   "source": [
    "The following sections show my code and results from my work on this project."
   ]
  },
  {
   "cell_type": "markdown",
   "metadata": {},
   "source": [
    "### Import all necessary packages at once"
   ]
  },
  {
   "cell_type": "code",
   "execution_count": 8,
   "metadata": {},
   "outputs": [],
   "source": [
    "# Import packages for the data processing before and after simulations\n",
    "import time\n",
    "import pickle\n",
    "import math\n",
    "import datetime\n",
    "import random\n",
    "import sys\n",
    "import copy\n",
    "import numpy as np\n",
    "from collections import namedtuple, deque\n",
    "import matplotlib.pyplot as plt\n",
    "%matplotlib inline\n",
    "\n",
    "# Import from PyTorch for neural network implementation\n",
    "import torch\n",
    "import torch.nn as nn\n",
    "import torch.nn.functional as F\n",
    "import torch.optim as optim\n",
    "\n",
    "# Import to keep instance active while training on GPU\n",
    "import workspace_utils\n",
    "from workspace_utils import active_session"
   ]
  },
  {
   "cell_type": "markdown",
   "metadata": {},
   "source": [
    "### Setting of variables for the neural network, training algorithms and unity environments"
   ]
  },
  {
   "cell_type": "code",
   "execution_count": 9,
   "metadata": {},
   "outputs": [],
   "source": [
    "BUFFER_SIZE = int(1e5)     # replay buffer size\n",
    "BATCH_SIZE = 128           # minibatch size\n",
    "GAMMA = 0.99               # discount factor\n",
    "TAU = 0.001                # for soft update of target parameters\n",
    "LR = 0.0001                # learning rate for both networks\n",
    "\n",
    "FC_SIZE = 32               # number of neurons in layer of neural network\n",
    "P_DROPOUT = 0.0            # dropout probability for neurons and network regularization\n",
    "\n",
    "ACTION_SIZE = brain.vector_action_space_size # number of actions\n",
    "STATE_SIZE = states.shape[1]    # number of states\n",
    "N_AGENTS = len(env_info.agents) # number of agents\n",
    "\n",
    "N_EPISODES = 2000          # number of maximum episodes for training\n",
    "MAX_T = 1000               # maximum time agent is in the environment in each episode\n",
    "\n",
    "ENV_SOLVED = 30.0          # average score of agent to consider environment solved\n",
    "RANDOM_SEED = 5            # seed integer for random number generator\n",
    "MIN_EPISODES = 150         # minimum number of episodes to train"
   ]
  },
  {
   "cell_type": "markdown",
   "metadata": {},
   "source": [
    "### Check if training on GPU is possible, else use CPU"
   ]
  },
  {
   "cell_type": "code",
   "execution_count": 10,
   "metadata": {},
   "outputs": [
    {
     "name": "stdout",
     "output_type": "stream",
     "text": [
      "Available: GPU cuda\n"
     ]
    }
   ],
   "source": [
    "# If GPU is available use for training otherwise use CPU\n",
    "device = torch.device(\"cuda:0\" if torch.cuda.is_available() else \"cpu\")\n",
    "\n",
    "if device == \"cpu\":\n",
    "    print(\"Available: CPU only\")\n",
    "else:\n",
    "    print(\"Available: GPU cuda\")"
   ]
  },
  {
   "cell_type": "markdown",
   "metadata": {},
   "source": [
    "### Implementation of noise process added to actions of agent\n",
    "\n",
    "Implementation follows the standard noise Ornstein-Uhlenbeck process as described in the Udacity course videos regarding the DDPG algorithms. i.e. the bipedal walker or the pendulum exercises."
   ]
  },
  {
   "cell_type": "code",
   "execution_count": 11,
   "metadata": {},
   "outputs": [],
   "source": [
    "#Ornstein-Uhlenbeck stochastic noise process\n",
    "class OUNoise:\n",
    "\n",
    "    def __init__(self):\n",
    "\n",
    "        self.theta = 0.15\n",
    "        self.sigma = 0.2\n",
    "        self.size = (N_AGENTS, ACTION_SIZE)\n",
    "        self.mu = np.zeros(self.size) # mu = 0.0\n",
    "        self.reset()\n",
    "\n",
    "    # Reset internal state to mean\n",
    "    def reset(self):\n",
    "\n",
    "        self.state = copy.copy(self.mu)\n",
    "\n",
    "    # Update internal state and generate noise sample\n",
    "    def sample(self):\n",
    "\n",
    "        x = self.state\n",
    "        dx = self.theta * (self.mu - x) + self.sigma * np.random.standard_normal(self.size)\n",
    "        self.state = x + dx\n",
    "        \n",
    "        return self.state"
   ]
  },
  {
   "cell_type": "markdown",
   "metadata": {},
   "source": [
    "### Implementation of experience replay buffer\n",
    "\n",
    "Implementation follows the standard replay buffer implementation as described in the Udacity course videos regarding the DDPG algorithms. i.e. the bipedal walker or the pendulum exercises."
   ]
  },
  {
   "cell_type": "code",
   "execution_count": 12,
   "metadata": {},
   "outputs": [],
   "source": [
    "class ReplayBuffer:\n",
    "\n",
    "    def __init__(self):\n",
    "\n",
    "        self.memory = deque(maxlen = BUFFER_SIZE)\n",
    "        self.experience = namedtuple(\"Experience\", field_names=[\"state\", \"action\", \"reward\", \"next_state\", \"done\"])\n",
    "        self.seed = random.seed(RANDOM_SEED)\n",
    "    \n",
    "    # Add an experience to the memory\n",
    "    def add(self, state, action, reward, next_state, done):\n",
    "\n",
    "        e = self.experience(state, action, reward, next_state, done)\n",
    "        self.memory.append(e)\n",
    "    \n",
    "    # Randomly sample experiences from the memory\n",
    "    def sample(self):\n",
    "\n",
    "        # Randomly draw a sample of size BATCH_SIZE\n",
    "        experiences = random.sample(self.memory, k=BATCH_SIZE)\n",
    "\n",
    "        states = torch.from_numpy(np.vstack([e.state for e in experiences if e is not None])).float().to(device)\n",
    "        actions = torch.from_numpy(np.vstack([e.action for e in experiences if e is not None])).float().to(device)\n",
    "        rewards = torch.from_numpy(np.vstack([e.reward for e in experiences if e is not None])).float().to(device)\n",
    "        next_states = torch.from_numpy(np.vstack([e.next_state for e in experiences if e is not None])).float().to(device)\n",
    "        dones = torch.from_numpy(np.vstack([e.done for e in experiences if e is not None]).astype(np.uint8)).float().to(device)\n",
    "\n",
    "        return (states, actions, rewards, next_states, dones)\n",
    "\n",
    "    # Calculate length of memory\n",
    "    def __len__(self):\n",
    "\n",
    "        return len(self.memory)"
   ]
  },
  {
   "cell_type": "markdown",
   "metadata": {},
   "source": [
    "## Initialization of weights in hidden layer"
   ]
  },
  {
   "cell_type": "code",
   "execution_count": 13,
   "metadata": {},
   "outputs": [],
   "source": [
    "def hidden_init(layer):\n",
    "    \n",
    "    fan_in = layer.weight.data.size()[0]\n",
    "    lim = 1.0 / np.sqrt(fan_in)\n",
    "    \n",
    "    return (-lim, lim)"
   ]
  },
  {
   "cell_type": "markdown",
   "metadata": {},
   "source": [
    "### Actor network for Actor-Critic-setup"
   ]
  },
  {
   "cell_type": "code",
   "execution_count": 14,
   "metadata": {},
   "outputs": [],
   "source": [
    "class Actor(nn.Module):\n",
    "\n",
    "    def __init__(self):\n",
    "\n",
    "        super(Actor, self).__init__()\n",
    "        \n",
    "        self.seed = torch.manual_seed(RANDOM_SEED)\n",
    "        \n",
    "        self.fc1 = nn.Linear(STATE_SIZE, 8*FC_SIZE)\n",
    "        self.fc2 = nn.Linear(8*FC_SIZE, 4*FC_SIZE)\n",
    "        self.fc3 = nn.Linear(4*FC_SIZE, ACTION_SIZE)\n",
    "        \n",
    "        self.dropout = nn.Dropout(P_DROPOUT)\n",
    "        \n",
    "        self.reset_parameters()\n",
    "\n",
    "    def reset_parameters(self):\n",
    "        \n",
    "        self.fc1.weight.data.uniform_(*hidden_init(self.fc1))\n",
    "        self.fc2.weight.data.uniform_(*hidden_init(self.fc2))\n",
    "        self.fc3.weight.data.uniform_(-3e-3, 3e-3)\n",
    "\n",
    "    def forward(self, state):\n",
    "\n",
    "        x = F.leaky_relu(self.fc1(state))\n",
    "        \n",
    "        x = F.leaky_relu(self.fc2(x))\n",
    "        x = self.dropout(x) # dropout regularization\n",
    "        \n",
    "        result = torch.tanh(self.fc3(x)) # tanh to yield continous value between -1.0 and 1.0\n",
    "        return result"
   ]
  },
  {
   "cell_type": "markdown",
   "metadata": {},
   "source": [
    "### Critic network for Actor-Critic-setup"
   ]
  },
  {
   "cell_type": "code",
   "execution_count": 15,
   "metadata": {},
   "outputs": [],
   "source": [
    "class Critic(nn.Module):\n",
    "\n",
    "    def __init__(self):\n",
    "\n",
    "        super(Critic, self).__init__()\n",
    "        \n",
    "        self.seed = torch.manual_seed(RANDOM_SEED)\n",
    "        \n",
    "        self.fc1 = nn.Linear(STATE_SIZE, 8*FC_SIZE)\n",
    "        self.fc2 = nn.Linear(8*FC_SIZE + ACTION_SIZE, 4*FC_SIZE)\n",
    "        self.fc3 = nn.Linear(4*FC_SIZE, 1)\n",
    "        \n",
    "        self.dropout = nn.Dropout(P_DROPOUT)\n",
    "        \n",
    "        self.reset_parameters()\n",
    "\n",
    "    def reset_parameters(self):\n",
    "        \n",
    "        self.fc1.weight.data.uniform_(*hidden_init(self.fc1))\n",
    "        self.fc2.weight.data.uniform_(*hidden_init(self.fc2))\n",
    "        self.fc3.weight.data.uniform_(-3e-3, 3e-3)\n",
    "\n",
    "    def forward(self, state, action):\n",
    "\n",
    "        xs = F.leaky_relu(self.fc1(state))\n",
    "        x = torch.cat((xs, action), dim=1) # merge action vector into network\n",
    "\n",
    "        x = F.leaky_relu(self.fc2(x))\n",
    "        x = self.dropout(x) # dropout regularization\n",
    "        \n",
    "        result = self.fc3(x) # no activation as we need a real Q value\n",
    "        return result"
   ]
  },
  {
   "cell_type": "markdown",
   "metadata": {},
   "source": [
    "### Agent"
   ]
  },
  {
   "cell_type": "code",
   "execution_count": 16,
   "metadata": {
    "scrolled": true
   },
   "outputs": [],
   "source": [
    "class Agent():\n",
    "    \n",
    "    def __init__(self):\n",
    "\n",
    "        self.seed = random.seed(RANDOM_SEED)\n",
    "\n",
    "        # Actor Network (w/ Target Network)\n",
    "        self.actor_local = Actor().to(device)\n",
    "        self.actor_target = Actor().to(device)\n",
    "        self.actor_optimizer = optim.Adam(self.actor_local.parameters(), lr=LR)\n",
    "\n",
    "        # Critic Network (w/ Target Network)\n",
    "        self.critic_local = Critic().to(device)\n",
    "        self.critic_target = Critic().to(device)\n",
    "        self.critic_optimizer = optim.Adam(self.critic_local.parameters(), lr=LR)\n",
    "\n",
    "        # Noise process\n",
    "        self.noise = OUNoise()\n",
    "\n",
    "        # Replay memory\n",
    "        self.memory = ReplayBuffer()\n",
    "    \n",
    "    # Perform step\n",
    "    def step(self, state, action, reward, next_state, done):\n",
    "\n",
    "        # Add to memory (for each agent)\n",
    "        for agent in range(N_AGENTS):\n",
    "            self.memory.add(state[agent,:], action[agent,:], reward[agent], next_state[agent,:], done[agent])\n",
    "\n",
    "        # Learn from experiences\n",
    "        if len(self.memory) > BATCH_SIZE:\n",
    "            experiences = self.memory.sample()\n",
    "            self.learn(experiences, GAMMA)\n",
    "\n",
    "    # Choose action for agent according to given policy\n",
    "    def act(self, states):\n",
    "\n",
    "        states = torch.from_numpy(states).float().to(device)\n",
    "        actions = np.zeros((N_AGENTS, ACTION_SIZE))\n",
    "        \n",
    "        self.actor_local.eval()\n",
    "        \n",
    "        with torch.no_grad():\n",
    "            for agent, state in enumerate(states):\n",
    "                action = self.actor_local(state).cpu().data.numpy()\n",
    "                actions[agent, :] = action\n",
    "                \n",
    "        self.actor_local.train()\n",
    "        \n",
    "        actions += self.noise.sample()\n",
    "        \n",
    "        return np.clip(actions, -1, 1)\n",
    "\n",
    "    # Reset noise\n",
    "    def reset(self):\n",
    "        self.noise.reset()\n",
    "\n",
    "    # Learn from experiences\n",
    "    def learn(self, experiences, gamma):\n",
    "\n",
    "        states, actions, rewards, next_states, dones = experiences\n",
    "\n",
    "        # Get next actions from actor and corresponding Q from critic\n",
    "        actions_next = self.actor_target(next_states)\n",
    "        Q_targets_next = self.critic_target(next_states, actions_next)\n",
    "        \n",
    "        # Calculate target Q\n",
    "        Q_targets = rewards + (gamma * Q_targets_next * (1.0 - dones))\n",
    "        \n",
    "        # Get expected Q\n",
    "        Q_expected = self.critic_local(states, actions)\n",
    "        \n",
    "        # Standard mean-sqaured-error loss function\n",
    "        critic_loss = F.mse_loss(Q_expected, Q_targets)\n",
    "        \n",
    "        # Reset the gradients\n",
    "        self.critic_optimizer.zero_grad()\n",
    "        # Perform backpropagation\n",
    "        critic_loss.backward()\n",
    "        # Optimize weights\n",
    "        self.critic_optimizer.step()\n",
    "\n",
    "        \n",
    "        # Compute loss function for actor\n",
    "        actions_pred = self.actor_local(states)\n",
    "        actor_loss = -self.critic_local(states, actions_pred).mean()\n",
    "\n",
    "        # Reset the gradients\n",
    "        self.actor_optimizer.zero_grad()\n",
    "        # Perform backpropagation\n",
    "        actor_loss.backward()\n",
    "        # Optimize weights\n",
    "        self.actor_optimizer.step()\n",
    "\n",
    "        # Update networks\n",
    "        self.soft_update(self.critic_local, self.critic_target)\n",
    "        self.soft_update(self.actor_local, self.actor_target)                     \n",
    "\n",
    "    def soft_update(self, local_model, target_model):\n",
    "\n",
    "        for target_param, local_param in zip(target_model.parameters(), local_model.parameters()):\n",
    "            target_param.data.copy_(TAU * local_param.data + (1.0 - TAU) * target_param.data)"
   ]
  },
  {
   "cell_type": "markdown",
   "metadata": {},
   "source": [
    "### Deep deterministic policy gradient"
   ]
  },
  {
   "cell_type": "code",
   "execution_count": 17,
   "metadata": {},
   "outputs": [],
   "source": [
    "def ddpg():\n",
    "    \n",
    "    scores_window = deque(maxlen = 100)\n",
    "    scores_all = []\n",
    "    \n",
    "    for i_episode in range(1, N_EPISODES + 1):\n",
    "        \n",
    "        env_info = env.reset(train_mode=True)[brain_name]      # reset the environment    \n",
    "        states = env_info.vector_observations                  # get current state\n",
    "        agent.reset()                                          # reset the agent\n",
    "        scores = np.zeros(N_AGENTS)                            # reset scores\n",
    "        \n",
    "        while True:\n",
    "            \n",
    "            actions = agent.act(states)                        # select an action (for each agent)\n",
    "            \n",
    "            env_info = env.step(actions)[brain_name]           # send the action to the environment\n",
    "            \n",
    "            next_states = env_info.vector_observations         # get next state (for each agent)\n",
    "            rewards = env_info.rewards                         # get reward (for each agent)\n",
    "            dones = env_info.local_done                        # see if episode finished (for each agent)\n",
    "            \n",
    "            agent.step(states, actions, rewards, next_states, dones) # agent step\n",
    "            \n",
    "            scores += rewards                                  # update the score (for each agent)\n",
    "            states = next_states                               # roll over states to next time step\n",
    "            if np.any(dones):                                  # exit loop if episode finished\n",
    "                break\n",
    "\n",
    "        scores_window.append(np.mean(scores))                  # save most recent score\n",
    "        scores_all.append(np.mean(scores))                     # save most recent score\n",
    "\n",
    "        print('\\rEpisode {}\\tCurrent Score: {:.2f}\\tAverage Score: {:.2f}'.format(i_episode, np.mean(scores), np.mean(scores_window)))\n",
    "        \n",
    "        # Output temporary weights file every 50 episodes.\n",
    "        #if i_episode % 50 == 0:\n",
    "        #    print('\\rEpisode {}\\tAverage Score: {:.2f}'.format(i_episode, np.mean(scores_window)))\n",
    "        #    torch.save(agent.actor_local.state_dict(), 'checkpoint_actor_temp.pth')\n",
    "        #    torch.save(agent.critic_local.state_dict(), 'checkpoint_critic_temp.pth')\n",
    "        \n",
    "        # Output final weights after environment is solved\n",
    "        if np.mean(scores_window) > ENV_SOLVED:\n",
    "            print('\\nEnvironment solved in {:d} episodes!\\tAverage Score: {:.2f}'.format(i_episode, np.mean(scores_window)))\n",
    "            torch.save(agent.actor_local.state_dict(), 'checkpoint_actor.pth')\n",
    "            torch.save(agent.critic_local.state_dict(), 'checkpoint_critic.pth')\n",
    "            if i_episode > MIN_EPISODES:\n",
    "                break\n",
    "\n",
    "    return scores_all"
   ]
  },
  {
   "cell_type": "code",
   "execution_count": 18,
   "metadata": {},
   "outputs": [
    {
     "name": "stdout",
     "output_type": "stream",
     "text": [
      "Running on GPU.\n"
     ]
    }
   ],
   "source": [
    "if device == \"cpu\":\n",
    "    print(\"Running on CPU.\")\n",
    "else:\n",
    "    print(\"Running on GPU.\")"
   ]
  },
  {
   "cell_type": "markdown",
   "metadata": {},
   "source": [
    "### Main Loop"
   ]
  },
  {
   "cell_type": "code",
   "execution_count": 19,
   "metadata": {},
   "outputs": [
    {
     "name": "stdout",
     "output_type": "stream",
     "text": [
      "\n",
      "Training Loop:\n",
      "\n",
      "Episode 1\tCurrent Score: 0.75\tAverage Score: 0.75\n",
      "Episode 2\tCurrent Score: 0.71\tAverage Score: 0.73\n",
      "Episode 3\tCurrent Score: 0.90\tAverage Score: 0.79\n",
      "Episode 4\tCurrent Score: 0.68\tAverage Score: 0.76\n",
      "Episode 5\tCurrent Score: 1.11\tAverage Score: 0.83\n",
      "Episode 6\tCurrent Score: 0.87\tAverage Score: 0.84\n",
      "Episode 7\tCurrent Score: 0.99\tAverage Score: 0.86\n",
      "Episode 8\tCurrent Score: 1.32\tAverage Score: 0.92\n",
      "Episode 9\tCurrent Score: 1.26\tAverage Score: 0.95\n",
      "Episode 10\tCurrent Score: 1.73\tAverage Score: 1.03\n",
      "Episode 11\tCurrent Score: 2.30\tAverage Score: 1.15\n",
      "Episode 12\tCurrent Score: 2.54\tAverage Score: 1.26\n",
      "Episode 13\tCurrent Score: 3.20\tAverage Score: 1.41\n",
      "Episode 14\tCurrent Score: 3.44\tAverage Score: 1.56\n",
      "Episode 15\tCurrent Score: 4.22\tAverage Score: 1.73\n",
      "Episode 16\tCurrent Score: 4.51\tAverage Score: 1.91\n",
      "Episode 17\tCurrent Score: 5.34\tAverage Score: 2.11\n",
      "Episode 18\tCurrent Score: 6.95\tAverage Score: 2.38\n",
      "Episode 19\tCurrent Score: 8.08\tAverage Score: 2.68\n",
      "Episode 20\tCurrent Score: 8.53\tAverage Score: 2.97\n",
      "Episode 21\tCurrent Score: 13.58\tAverage Score: 3.48\n",
      "Episode 22\tCurrent Score: 16.48\tAverage Score: 4.07\n",
      "Episode 23\tCurrent Score: 23.79\tAverage Score: 4.92\n",
      "Episode 24\tCurrent Score: 26.13\tAverage Score: 5.81\n",
      "Episode 25\tCurrent Score: 29.11\tAverage Score: 6.74\n",
      "Episode 26\tCurrent Score: 31.22\tAverage Score: 7.68\n",
      "Episode 27\tCurrent Score: 33.18\tAverage Score: 8.63\n",
      "Episode 28\tCurrent Score: 33.47\tAverage Score: 9.51\n",
      "Episode 29\tCurrent Score: 33.68\tAverage Score: 10.35\n",
      "Episode 30\tCurrent Score: 34.86\tAverage Score: 11.16\n",
      "Episode 31\tCurrent Score: 36.28\tAverage Score: 11.97\n",
      "Episode 32\tCurrent Score: 37.14\tAverage Score: 12.76\n",
      "Episode 33\tCurrent Score: 37.40\tAverage Score: 13.51\n",
      "Episode 34\tCurrent Score: 36.72\tAverage Score: 14.19\n",
      "Episode 35\tCurrent Score: 37.51\tAverage Score: 14.86\n",
      "Episode 36\tCurrent Score: 37.51\tAverage Score: 15.49\n",
      "Episode 37\tCurrent Score: 37.95\tAverage Score: 16.09\n",
      "Episode 38\tCurrent Score: 37.77\tAverage Score: 16.66\n",
      "Episode 39\tCurrent Score: 37.18\tAverage Score: 17.19\n",
      "Episode 40\tCurrent Score: 37.82\tAverage Score: 17.71\n",
      "Episode 41\tCurrent Score: 37.55\tAverage Score: 18.19\n",
      "Episode 42\tCurrent Score: 37.45\tAverage Score: 18.65\n",
      "Episode 43\tCurrent Score: 38.10\tAverage Score: 19.10\n",
      "Episode 44\tCurrent Score: 37.74\tAverage Score: 19.52\n",
      "Episode 45\tCurrent Score: 37.58\tAverage Score: 19.93\n",
      "Episode 46\tCurrent Score: 37.71\tAverage Score: 20.31\n",
      "Episode 47\tCurrent Score: 37.20\tAverage Score: 20.67\n",
      "Episode 48\tCurrent Score: 37.04\tAverage Score: 21.01\n",
      "Episode 49\tCurrent Score: 37.41\tAverage Score: 21.35\n",
      "Episode 50\tCurrent Score: 37.27\tAverage Score: 21.67\n",
      "Episode 51\tCurrent Score: 37.29\tAverage Score: 21.97\n",
      "Episode 52\tCurrent Score: 36.60\tAverage Score: 22.25\n",
      "Episode 53\tCurrent Score: 37.39\tAverage Score: 22.54\n",
      "Episode 54\tCurrent Score: 36.68\tAverage Score: 22.80\n",
      "Episode 55\tCurrent Score: 36.13\tAverage Score: 23.04\n",
      "Episode 56\tCurrent Score: 36.08\tAverage Score: 23.28\n",
      "Episode 57\tCurrent Score: 37.28\tAverage Score: 23.52\n",
      "Episode 58\tCurrent Score: 36.40\tAverage Score: 23.74\n",
      "Episode 59\tCurrent Score: 36.62\tAverage Score: 23.96\n",
      "Episode 60\tCurrent Score: 36.46\tAverage Score: 24.17\n",
      "Episode 61\tCurrent Score: 35.68\tAverage Score: 24.36\n",
      "Episode 62\tCurrent Score: 37.01\tAverage Score: 24.56\n",
      "Episode 63\tCurrent Score: 36.67\tAverage Score: 24.76\n",
      "Episode 64\tCurrent Score: 37.02\tAverage Score: 24.95\n",
      "Episode 65\tCurrent Score: 37.33\tAverage Score: 25.14\n",
      "Episode 66\tCurrent Score: 36.56\tAverage Score: 25.31\n",
      "Episode 67\tCurrent Score: 36.86\tAverage Score: 25.48\n",
      "Episode 68\tCurrent Score: 36.45\tAverage Score: 25.64\n",
      "Episode 69\tCurrent Score: 37.45\tAverage Score: 25.82\n",
      "Episode 70\tCurrent Score: 36.46\tAverage Score: 25.97\n",
      "Episode 71\tCurrent Score: 37.29\tAverage Score: 26.13\n",
      "Episode 72\tCurrent Score: 37.26\tAverage Score: 26.28\n",
      "Episode 73\tCurrent Score: 36.49\tAverage Score: 26.42\n",
      "Episode 74\tCurrent Score: 36.77\tAverage Score: 26.56\n",
      "Episode 75\tCurrent Score: 36.54\tAverage Score: 26.69\n",
      "Episode 76\tCurrent Score: 37.92\tAverage Score: 26.84\n",
      "Episode 77\tCurrent Score: 37.65\tAverage Score: 26.98\n",
      "Episode 78\tCurrent Score: 36.89\tAverage Score: 27.11\n",
      "Episode 79\tCurrent Score: 36.52\tAverage Score: 27.23\n",
      "Episode 80\tCurrent Score: 37.62\tAverage Score: 27.36\n",
      "Episode 81\tCurrent Score: 36.64\tAverage Score: 27.47\n",
      "Episode 82\tCurrent Score: 37.06\tAverage Score: 27.59\n",
      "Episode 83\tCurrent Score: 37.63\tAverage Score: 27.71\n",
      "Episode 84\tCurrent Score: 37.16\tAverage Score: 27.82\n",
      "Episode 85\tCurrent Score: 37.10\tAverage Score: 27.93\n",
      "Episode 86\tCurrent Score: 37.36\tAverage Score: 28.04\n",
      "Episode 87\tCurrent Score: 36.00\tAverage Score: 28.13\n",
      "Episode 88\tCurrent Score: 36.97\tAverage Score: 28.23\n",
      "Episode 89\tCurrent Score: 37.41\tAverage Score: 28.34\n",
      "Episode 90\tCurrent Score: 37.52\tAverage Score: 28.44\n",
      "Episode 91\tCurrent Score: 37.68\tAverage Score: 28.54\n",
      "Episode 92\tCurrent Score: 36.81\tAverage Score: 28.63\n",
      "Episode 93\tCurrent Score: 37.40\tAverage Score: 28.72\n",
      "Episode 94\tCurrent Score: 36.68\tAverage Score: 28.81\n",
      "Episode 95\tCurrent Score: 37.76\tAverage Score: 28.90\n",
      "Episode 96\tCurrent Score: 36.62\tAverage Score: 28.98\n",
      "Episode 97\tCurrent Score: 35.04\tAverage Score: 29.05\n",
      "Episode 98\tCurrent Score: 36.31\tAverage Score: 29.12\n",
      "Episode 99\tCurrent Score: 37.02\tAverage Score: 29.20\n",
      "Episode 100\tCurrent Score: 37.12\tAverage Score: 29.28\n",
      "Episode 101\tCurrent Score: 37.31\tAverage Score: 29.64\n",
      "Episode 102\tCurrent Score: 35.76\tAverage Score: 30.00\n",
      "Episode 103\tCurrent Score: 35.49\tAverage Score: 30.34\n",
      "\n",
      "Environment solved in 103 episodes!\tAverage Score: 30.34\n",
      "Episode 104\tCurrent Score: 35.59\tAverage Score: 30.69\n",
      "\n",
      "Environment solved in 104 episodes!\tAverage Score: 30.69\n",
      "Episode 105\tCurrent Score: 37.16\tAverage Score: 31.05\n",
      "\n",
      "Environment solved in 105 episodes!\tAverage Score: 31.05\n",
      "Episode 106\tCurrent Score: 36.81\tAverage Score: 31.41\n",
      "\n",
      "Environment solved in 106 episodes!\tAverage Score: 31.41\n",
      "Episode 107\tCurrent Score: 37.01\tAverage Score: 31.77\n",
      "\n",
      "Environment solved in 107 episodes!\tAverage Score: 31.77\n",
      "Episode 108\tCurrent Score: 36.72\tAverage Score: 32.12\n",
      "\n",
      "Environment solved in 108 episodes!\tAverage Score: 32.12\n",
      "Episode 109\tCurrent Score: 35.23\tAverage Score: 32.46\n",
      "\n",
      "Environment solved in 109 episodes!\tAverage Score: 32.46\n",
      "Episode 110\tCurrent Score: 37.90\tAverage Score: 32.83\n",
      "\n",
      "Environment solved in 110 episodes!\tAverage Score: 32.83\n",
      "Episode 111\tCurrent Score: 36.97\tAverage Score: 33.17\n",
      "\n",
      "Environment solved in 111 episodes!\tAverage Score: 33.17\n",
      "Episode 112\tCurrent Score: 36.72\tAverage Score: 33.51\n",
      "\n",
      "Environment solved in 112 episodes!\tAverage Score: 33.51\n",
      "Episode 113\tCurrent Score: 36.99\tAverage Score: 33.85\n",
      "\n",
      "Environment solved in 113 episodes!\tAverage Score: 33.85\n",
      "Episode 114\tCurrent Score: 35.82\tAverage Score: 34.18\n",
      "\n",
      "Environment solved in 114 episodes!\tAverage Score: 34.18\n",
      "Episode 115\tCurrent Score: 37.50\tAverage Score: 34.51\n",
      "\n",
      "Environment solved in 115 episodes!\tAverage Score: 34.51\n",
      "Episode 116\tCurrent Score: 37.85\tAverage Score: 34.84\n",
      "\n",
      "Environment solved in 116 episodes!\tAverage Score: 34.84\n",
      "Episode 117\tCurrent Score: 37.23\tAverage Score: 35.16\n",
      "\n",
      "Environment solved in 117 episodes!\tAverage Score: 35.16\n",
      "Episode 118\tCurrent Score: 37.60\tAverage Score: 35.47\n",
      "\n",
      "Environment solved in 118 episodes!\tAverage Score: 35.47\n",
      "Episode 119\tCurrent Score: 37.91\tAverage Score: 35.77\n",
      "\n",
      "Environment solved in 119 episodes!\tAverage Score: 35.77\n",
      "Episode 120\tCurrent Score: 37.70\tAverage Score: 36.06\n",
      "\n",
      "Environment solved in 120 episodes!\tAverage Score: 36.06\n",
      "Episode 121\tCurrent Score: 37.62\tAverage Score: 36.30\n",
      "\n",
      "Environment solved in 121 episodes!\tAverage Score: 36.30\n",
      "Episode 122\tCurrent Score: 36.10\tAverage Score: 36.49\n",
      "\n",
      "Environment solved in 122 episodes!\tAverage Score: 36.49\n",
      "Episode 123\tCurrent Score: 35.71\tAverage Score: 36.61\n",
      "\n",
      "Environment solved in 123 episodes!\tAverage Score: 36.61\n",
      "Episode 124\tCurrent Score: 33.85\tAverage Score: 36.69\n",
      "\n",
      "Environment solved in 124 episodes!\tAverage Score: 36.69\n",
      "Episode 125\tCurrent Score: 37.26\tAverage Score: 36.77\n",
      "\n",
      "Environment solved in 125 episodes!\tAverage Score: 36.77\n",
      "Episode 126\tCurrent Score: 37.13\tAverage Score: 36.83\n",
      "\n",
      "Environment solved in 126 episodes!\tAverage Score: 36.83\n",
      "Episode 127\tCurrent Score: 37.86\tAverage Score: 36.88\n",
      "\n",
      "Environment solved in 127 episodes!\tAverage Score: 36.88\n",
      "Episode 128\tCurrent Score: 37.73\tAverage Score: 36.92\n",
      "\n",
      "Environment solved in 128 episodes!\tAverage Score: 36.92\n"
     ]
    },
    {
     "name": "stdout",
     "output_type": "stream",
     "text": [
      "Episode 129\tCurrent Score: 37.33\tAverage Score: 36.96\n",
      "\n",
      "Environment solved in 129 episodes!\tAverage Score: 36.96\n",
      "Episode 130\tCurrent Score: 36.85\tAverage Score: 36.98\n",
      "\n",
      "Environment solved in 130 episodes!\tAverage Score: 36.98\n",
      "Episode 131\tCurrent Score: 36.55\tAverage Score: 36.98\n",
      "\n",
      "Environment solved in 131 episodes!\tAverage Score: 36.98\n",
      "Episode 132\tCurrent Score: 38.29\tAverage Score: 36.99\n",
      "\n",
      "Environment solved in 132 episodes!\tAverage Score: 36.99\n",
      "Episode 133\tCurrent Score: 37.71\tAverage Score: 36.99\n",
      "\n",
      "Environment solved in 133 episodes!\tAverage Score: 36.99\n",
      "Episode 134\tCurrent Score: 36.69\tAverage Score: 36.99\n",
      "\n",
      "Environment solved in 134 episodes!\tAverage Score: 36.99\n",
      "Episode 135\tCurrent Score: 37.17\tAverage Score: 36.99\n",
      "\n",
      "Environment solved in 135 episodes!\tAverage Score: 36.99\n",
      "Episode 136\tCurrent Score: 37.73\tAverage Score: 36.99\n",
      "\n",
      "Environment solved in 136 episodes!\tAverage Score: 36.99\n",
      "Episode 137\tCurrent Score: 37.19\tAverage Score: 36.99\n",
      "\n",
      "Environment solved in 137 episodes!\tAverage Score: 36.99\n",
      "Episode 138\tCurrent Score: 37.64\tAverage Score: 36.98\n",
      "\n",
      "Environment solved in 138 episodes!\tAverage Score: 36.98\n",
      "Episode 139\tCurrent Score: 37.81\tAverage Score: 36.99\n",
      "\n",
      "Environment solved in 139 episodes!\tAverage Score: 36.99\n",
      "Episode 140\tCurrent Score: 37.65\tAverage Score: 36.99\n",
      "\n",
      "Environment solved in 140 episodes!\tAverage Score: 36.99\n",
      "Episode 141\tCurrent Score: 37.95\tAverage Score: 36.99\n",
      "\n",
      "Environment solved in 141 episodes!\tAverage Score: 36.99\n",
      "Episode 142\tCurrent Score: 38.00\tAverage Score: 37.00\n",
      "\n",
      "Environment solved in 142 episodes!\tAverage Score: 37.00\n",
      "Episode 143\tCurrent Score: 38.05\tAverage Score: 37.00\n",
      "\n",
      "Environment solved in 143 episodes!\tAverage Score: 37.00\n",
      "Episode 144\tCurrent Score: 37.53\tAverage Score: 37.00\n",
      "\n",
      "Environment solved in 144 episodes!\tAverage Score: 37.00\n",
      "Episode 145\tCurrent Score: 38.07\tAverage Score: 37.00\n",
      "\n",
      "Environment solved in 145 episodes!\tAverage Score: 37.00\n",
      "Episode 146\tCurrent Score: 37.98\tAverage Score: 37.00\n",
      "\n",
      "Environment solved in 146 episodes!\tAverage Score: 37.00\n",
      "Episode 147\tCurrent Score: 37.07\tAverage Score: 37.00\n",
      "\n",
      "Environment solved in 147 episodes!\tAverage Score: 37.00\n",
      "Episode 148\tCurrent Score: 37.10\tAverage Score: 37.00\n",
      "\n",
      "Environment solved in 148 episodes!\tAverage Score: 37.00\n",
      "Episode 149\tCurrent Score: 37.09\tAverage Score: 37.00\n",
      "\n",
      "Environment solved in 149 episodes!\tAverage Score: 37.00\n",
      "Episode 150\tCurrent Score: 37.25\tAverage Score: 37.00\n",
      "\n",
      "Environment solved in 150 episodes!\tAverage Score: 37.00\n",
      "Episode 151\tCurrent Score: 37.84\tAverage Score: 37.00\n",
      "\n",
      "Environment solved in 151 episodes!\tAverage Score: 37.00\n"
     ]
    }
   ],
   "source": [
    "print(\"\\nTraining Loop:\\n\")\n",
    "\n",
    "agent = Agent()\n",
    "\n",
    "with active_session():\n",
    "    scores = ddpg()\n",
    "\n",
    "f = open('scores.pckl', 'wb')\n",
    "pickle.dump(scores, f)\n",
    "f.close()"
   ]
  },
  {
   "cell_type": "markdown",
   "metadata": {},
   "source": [
    "The average scores are loaded back from files and plotted."
   ]
  },
  {
   "cell_type": "code",
   "execution_count": 20,
   "metadata": {},
   "outputs": [],
   "source": [
    "def runningMean(y, N):\n",
    "    x = np.asarray(y)\n",
    "    result = np.zeros(len(x))\n",
    "    for i in range(1,len(x)):\n",
    "        if i < int(N):\n",
    "            result[i] = np.mean(x[0:i]) # Fill up first data points where index is smaller than window size\n",
    "        else:\n",
    "            result[i] = np.mean(x[i-N:i]) # Calculate rolling mean where index is larger than window size\n",
    "    return result\n",
    "\n",
    "f = open('scores.pckl', 'rb')\n",
    "scores = pickle.load(f)\n",
    "f.close()"
   ]
  },
  {
   "cell_type": "code",
   "execution_count": 21,
   "metadata": {},
   "outputs": [
    {
     "data": {
      "image/png": "[encoded data removed]",
      "text/plain": [
       "<matplotlib.figure.Figure at 0x7f2496e56320>"
      ]
     },
     "metadata": {
      "needs_background": "light"
     },
     "output_type": "display_data"
    }
   ],
   "source": [
    "# Calculate average scores of all four Agents with the same window=100 as used in the Q-learning algorithm\n",
    "mean_score= runningMean(scores, 100)\n",
    "\n",
    "# Show averages of all fou agents in a single plot for comparison\n",
    "fig = plt.figure(figsize=(8,8))\n",
    "ax = fig.add_subplot(111)\n",
    "plt.plot(np.arange(len(scores)), scores, 'tab:blue')\n",
    "plt.plot(np.arange(len(mean_score)), mean_score, 'tab:green')\n",
    "\n",
    "plt.axhline(y=30.0, color=\"Black\")\n",
    "\n",
    "plt.title('Evolution of score with time')\n",
    "plt.xlabel('Episode #')\n",
    "plt.ylabel('Score')\n",
    "plt.show()"
   ]
  },
  {
   "cell_type": "markdown",
   "metadata": {},
   "source": [
    "# Conclusions and future improvements\n",
    "\n",
    "In this project I have implemented an Agent using the DDPG algorithm to solve the Unity Reacher Environment with 20 parallel agents.\n",
    "\n",
    "The performance is as follows:\n",
    "\n",
    "    The Multi-Agent set-up requires 102 episodes to solve the problem. I evolved the simulation up to 150 episodes and the results remained stable.\n",
    "    \n",
    "Therefore, ... text"
   ]
  },
  {
   "cell_type": "code",
   "execution_count": null,
   "metadata": {},
   "outputs": [],
   "source": []
  }
 ],
 "metadata": {
  "kernelspec": {
   "display_name": "Python 3",
   "language": "python",
   "name": "python3"
  },
  "language_info": {
   "codemirror_mode": {
    "name": "ipython",
    "version": 3
   },
   "file_extension": ".py",
   "mimetype": "text/x-python",
   "name": "python",
   "nbconvert_exporter": "python",
   "pygments_lexer": "ipython3",
   "version": "3.7.6"
  }
 },
 "nbformat": 4,
 "nbformat_minor": 2
}
