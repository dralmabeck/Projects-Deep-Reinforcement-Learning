{
 "cells": [
  {
   "cell_type": "markdown",
   "metadata": {},
   "source": [
    "# Navigation - Introduction by Udacity\n",
    "\n",
    "---\n",
    "\n",
    "In this notebook, you will learn how to use the Unity ML-Agents environment for the first project of the [Deep Reinforcement Learning Nanodegree](https://www.udacity.com/course/deep-reinforcement-learning-nanodegree--nd893).\n",
    "\n",
    "### 1. Start the Environment\n",
    "\n",
    "We begin by importing some necessary packages.  If the code cell below returns an error, please revisit the project instructions to double-check that you have installed [Unity ML-Agents](https://github.com/Unity-Technologies/ml-agents/blob/master/docs/Installation.md) and [NumPy](http://www.numpy.org/)."
   ]
  },
  {
   "cell_type": "code",
   "execution_count": 1,
   "metadata": {},
   "outputs": [
    {
     "name": "stdout",
     "output_type": "stream",
     "text": [
      "\u001b[31mtensorflow 1.7.1 has requirement numpy>=1.13.3, but you'll have numpy 1.12.1 which is incompatible.\u001b[0m\r\n",
      "\u001b[31mipython 6.5.0 has requirement prompt-toolkit<2.0.0,>=1.0.15, but you'll have prompt-toolkit 3.0.5 which is incompatible.\u001b[0m\r\n"
     ]
    }
   ],
   "source": [
    "!pip -q install ./python"
   ]
  },
  {
   "cell_type": "code",
   "execution_count": 2,
   "metadata": {},
   "outputs": [],
   "source": [
    "from unityagents import UnityEnvironment\n",
    "import numpy as np"
   ]
  },
  {
   "cell_type": "markdown",
   "metadata": {},
   "source": [
    "Next, we will start the environment!  **_Before running the code cell below_**, change the `file_name` parameter to match the location of the Unity environment that you downloaded.\n",
    "\n",
    "- **Mac**: `\"path/to/Banana.app\"`\n",
    "- **Windows** (x86): `\"path/to/Banana_Windows_x86/Banana.exe\"`\n",
    "- **Windows** (x86_64): `\"path/to/Banana_Windows_x86_64/Banana.exe\"`\n",
    "- **Linux** (x86): `\"path/to/Banana_Linux/Banana.x86\"`\n",
    "- **Linux** (x86_64): `\"path/to/Banana_Linux/Banana.x86_64\"`\n",
    "- **Linux** (x86, headless): `\"path/to/Banana_Linux_NoVis/Banana.x86\"`\n",
    "- **Linux** (x86_64, headless): `\"path/to/Banana_Linux_NoVis/Banana.x86_64\"`\n",
    "\n",
    "For instance, if you are using a Mac, then you downloaded `Banana.app`.  If this file is in the same folder as the notebook, then the line below should appear as follows:\n",
    "```\n",
    "env = UnityEnvironment(file_name=\"Banana.app\")\n",
    "```"
   ]
  },
  {
   "cell_type": "code",
   "execution_count": 3,
   "metadata": {},
   "outputs": [
    {
     "name": "stderr",
     "output_type": "stream",
     "text": [
      "INFO:unityagents:\n",
      "'Academy' started successfully!\n",
      "Unity Academy name: Academy\n",
      "        Number of Brains: 1\n",
      "        Number of External Brains : 1\n",
      "        Lesson number : 0\n",
      "        Reset Parameters :\n",
      "\t\t\n",
      "Unity brain name: BananaBrain\n",
      "        Number of Visual Observations (per agent): 0\n",
      "        Vector Observation space type: continuous\n",
      "        Vector Observation space size (per agent): 37\n",
      "        Number of stacked Vector Observation: 1\n",
      "        Vector Action space type: discrete\n",
      "        Vector Action space size (per agent): 4\n",
      "        Vector Action descriptions: , , , \n"
     ]
    }
   ],
   "source": [
    "#env = UnityEnvironment(file_name=\"Banana.app\")\n",
    "env = UnityEnvironment(file_name=\"/data/Banana_Linux_NoVis/Banana.x86_64\")"
   ]
  },
  {
   "cell_type": "markdown",
   "metadata": {},
   "source": [
    "Environments contain **_brains_** which are responsible for deciding the actions of their associated agents. Here we check for the first brain available, and set it as the default brain we will be controlling from Python."
   ]
  },
  {
   "cell_type": "code",
   "execution_count": 4,
   "metadata": {},
   "outputs": [],
   "source": [
    "# get the default brain\n",
    "brain_name = env.brain_names[0]\n",
    "brain = env.brains[brain_name]"
   ]
  },
  {
   "cell_type": "markdown",
   "metadata": {},
   "source": [
    "### 2. Examine the State and Action Spaces\n",
    "\n",
    "The simulation contains a single agent that navigates a large environment.  At each time step, it has four actions at its disposal:\n",
    "- `0` - walk forward \n",
    "- `1` - walk backward\n",
    "- `2` - turn left\n",
    "- `3` - turn right\n",
    "\n",
    "The state space has `37` dimensions and contains the agent's velocity, along with ray-based perception of objects around agent's forward direction.  A reward of `+1` is provided for collecting a yellow banana, and a reward of `-1` is provided for collecting a blue banana. \n",
    "\n",
    "Run the code cell below to print some information about the environment."
   ]
  },
  {
   "cell_type": "code",
   "execution_count": 5,
   "metadata": {},
   "outputs": [
    {
     "name": "stdout",
     "output_type": "stream",
     "text": [
      "Number of agents: 1\n",
      "Number of actions: 4\n",
      "States look like: [ 1.          0.          0.          0.          0.84408134  0.          0.\n",
      "  1.          0.          0.0748472   0.          1.          0.          0.\n",
      "  0.25755     1.          0.          0.          0.          0.74177343\n",
      "  0.          1.          0.          0.          0.25854847  0.          0.\n",
      "  1.          0.          0.09355672  0.          1.          0.          0.\n",
      "  0.31969345  0.          0.        ]\n",
      "States have length: 37\n"
     ]
    }
   ],
   "source": [
    "# reset the environment\n",
    "env_info = env.reset(train_mode=True)[brain_name]\n",
    "\n",
    "# number of agents in the environment\n",
    "print('Number of agents:', len(env_info.agents))\n",
    "\n",
    "# number of actions\n",
    "action_size = brain.vector_action_space_size\n",
    "print('Number of actions:', action_size)\n",
    "\n",
    "# examine the state space \n",
    "state = env_info.vector_observations[0]\n",
    "print('States look like:', state)\n",
    "state_size = len(state)\n",
    "print('States have length:', state_size)"
   ]
  },
  {
   "cell_type": "markdown",
   "metadata": {},
   "source": [
    "### 3. Take Random Actions in the Environment\n",
    "\n",
    "In the next code cell, you will learn how to use the Python API to control the agent and receive feedback from the environment.\n",
    "\n",
    "Once this cell is executed, you will watch the agent's performance, if it selects an action (uniformly) at random with each time step.  A window should pop up that allows you to observe the agent, as it moves through the environment.  \n",
    "\n",
    "Of course, as part of the project, you'll have to change the code so that the agent is able to use its experience to gradually choose better actions when interacting with the environment!"
   ]
  },
  {
   "cell_type": "code",
   "execution_count": 6,
   "metadata": {},
   "outputs": [],
   "source": [
    "#env_info = env.reset(train_mode=False)[brain_name] # reset the environment\n",
    "#state = env_info.vector_observations[0]            # get the current state\n",
    "#score = 0                                          # initialize the score\n",
    "#while True:\n",
    "#    action = np.random.randint(action_size)        # select an action\n",
    "#    env_info = env.step(action)[brain_name]        # send the action to the environment\n",
    "#    next_state = env_info.vector_observations[0]   # get the next state\n",
    "#    reward = env_info.rewards[0]                   # get the reward\n",
    "#    done = env_info.local_done[0]                  # see if episode has finished\n",
    "#    score += reward                                # update the score\n",
    "#    state = next_state                             # roll over the state to next time step\n",
    "#    if done:                                       # exit loop if episode finished\n",
    "#        break\n",
    "#    \n",
    "#print(\"Score: {}\".format(score))"
   ]
  },
  {
   "cell_type": "markdown",
   "metadata": {},
   "source": [
    "When finished, you can close the environment."
   ]
  },
  {
   "cell_type": "code",
   "execution_count": 7,
   "metadata": {},
   "outputs": [],
   "source": [
    "#env.close()"
   ]
  },
  {
   "cell_type": "markdown",
   "metadata": {},
   "source": [
    "### 4. It's Your Turn!\n",
    "\n",
    "Now it's your turn to train your own agent to solve the environment!  When training the environment, set `train_mode=True`, so that the line for resetting the environment looks like the following:\n",
    "```python\n",
    "env_info = env.reset(train_mode=True)[brain_name]\n",
    "```"
   ]
  },
  {
   "cell_type": "markdown",
   "metadata": {},
   "source": [
    "# Navigation - Student's project work"
   ]
  },
  {
   "cell_type": "markdown",
   "metadata": {},
   "source": [
    "The following sections show my code and results from my work on this project.\n",
    "\n",
    "I have implemented two different neural network architectures:\n",
    "- Standard neural network with three fully connected layers with sizes of: 37 (states) -> 256 (hidden) -> 256 (hidden) -> 4 (actions)\n",
    "- Duelling neural network (https://arxiv.org/abs/1511.06581) with two shared fully connected layers of size: 37 (states) -> 256 (hidden) -> 256 (hidden) and two seperated fully connected layers with one of sizes 256 (hidden) -> 128 (hidden) -> 1 (value branch) and one with sizes 256 (hidden) -> 128 (hidden) -> 4 (advantage branch)\n",
    "\n",
    "Both neural network architectures implement:\n",
    "- Linear fully connected layers: https://pytorch.org/docs/master/generated/torch.nn.Linear.html\n",
    "- Exponential linear unit activation function: https://pytorch.org/docs/stable/nn.html#torch.nn.ELU\n",
    "- Dropout between fully connected layersfor regularization: https://pytorch.org/docs/master/generated/torch.nn.Dropout.html\n",
    "\n",
    "I have implemented four different agents interacting with the environment:\n",
    "- SingleAgent:\n",
    "\n",
    " - Standard implementation of Agent using:\n",
    " - Standard neural QNetwork with three fully connected layers, exponential linear unit and dropout regularization\n",
    " - Standard Q-learning algorithm\n",
    " - Standard epsilon greedy policy\n",
    " - Standard experience replay with random sampling\n",
    " - Standard Mean-squared-error loss function\n",
    " - Adam optimizer: https://pytorch.org/docs/stable/_modules/torch/optim/adam.html#Adam\n",
    " \n",
    "\n",
    "- DoubleAgent:\n",
    "\n",
    " - Same as SingleAgent with two changes:\n",
    " - Double Q-Learning algorithm instead of single Q-Learning algorithm: https://arxiv.org/abs/1509.06461\n",
    " - Duelling neural DuelQNetwork instead of standard QNetwork\n",
    "\n",
    "- Triple Agent:\n",
    "\n",
    " - Same as SingleAgent with two changes:\n",
    " - Prioritized experience replay: https://arxiv.org/abs/1511.05952\n",
    " - Weighted mean-squared-error loss function\n",
    "\n",
    "- QuadrupleAgent:\n",
    "\n",
    " - Same as TripleAgent with one change:\n",
    " - Duelling neural DuelQNetwork instead of standard QNetwork\n",
    "\n",
    "Note that the QuadrupleAgent features many of the improvements used in the Rainbow implementation (https://arxiv.org/abs/1710.02298), which is a state-of-the-art list of improvements and combined implementation for Deep Reinforcement learning."
   ]
  },
  {
   "cell_type": "markdown",
   "metadata": {},
   "source": [
    "### Import all necessary packages at once"
   ]
  },
  {
   "cell_type": "code",
   "execution_count": 8,
   "metadata": {},
   "outputs": [],
   "source": [
    "# Import packages for the data processing before and after simulations\n",
    "import time\n",
    "import pickle\n",
    "import math\n",
    "import datetime\n",
    "import random\n",
    "import numpy as np\n",
    "from collections import namedtuple, deque\n",
    "import matplotlib.pyplot as plt\n",
    "%matplotlib inline\n",
    "\n",
    "# Import from PyTorch for neural network implementation\n",
    "import torch\n",
    "import torch.nn as nn\n",
    "import torch.nn.functional as F\n",
    "import torch.optim as optim\n",
    "\n",
    "# Import from Unity Environment for the agents\n",
    "from unityagents import UnityEnvironment"
   ]
  },
  {
   "cell_type": "markdown",
   "metadata": {},
   "source": [
    "### Setting of variables for the neural network, training algorithms and unity environments"
   ]
  },
  {
   "cell_type": "code",
   "execution_count": 9,
   "metadata": {},
   "outputs": [],
   "source": [
    "BUFFER_SIZE = int(1e5)     # replay buffer size\n",
    "BATCH_SIZE = 256           # minibatch size\n",
    "GAMMA = 0.99               # discount factor\n",
    "TAU = 0.001                # for soft update of target parameters\n",
    "LR = 0.0005                # learning rate \n",
    "UPDATE_EVERY = 4           # how often to update the network\n",
    "\n",
    "FC_SIZE = 128              # number of neurons in layer of neural network\n",
    "P_DROPOUT = 0.0            # dropout probability for neurons and network regularization\n",
    "\n",
    "ACTION_SIZE = brain.vector_action_space_size # number of actions\n",
    "STATE_SIZE = len(state)    # number of states\n",
    "\n",
    "N_EPISODES = 2000          # number of maximum episodes for training\n",
    "MAX_T = 1000               # maximum time agent is in the environment in each episode\n",
    "EPS_START = 1.0            # Initial Epsilon for Exploration - Exploitation\n",
    "EPS_END = 0.025            # minimum value of epsilon\n",
    "EPS_DECAY = 0.995          # linear decay of epsilon each timestep\n",
    "\n",
    "ALPHA_INITIAL = 0.6        # exponent of priorization https://arxiv.org/pdf/1511.05952.pdf\n",
    "BETA_INITIAL = 0.4         # exponent of importance sampling weights https://arxiv.org/pdf/1511.05952.pdf\n",
    "\n",
    "ENV_SOLVED = 13.0          # average score of agent to consider environment solved\n",
    "\n",
    "RANDOM_SEED = 2            # seed integer for random number generator"
   ]
  },
  {
   "cell_type": "markdown",
   "metadata": {},
   "source": [
    "### Check if training on GPU is possible, else use CPU"
   ]
  },
  {
   "cell_type": "code",
   "execution_count": 10,
   "metadata": {},
   "outputs": [
    {
     "name": "stdout",
     "output_type": "stream",
     "text": [
      "Available: GPU cuda\n"
     ]
    }
   ],
   "source": [
    "# If GPU is available use for training otherwise use CPU\n",
    "device = torch.device(\"cuda:0\" if torch.cuda.is_available() else \"cpu\")\n",
    "\n",
    "if device == \"cpu\":\n",
    "    print(\"Available: CPU only\")\n",
    "else:\n",
    "    print(\"Available: GPU cuda\")"
   ]
  },
  {
   "cell_type": "markdown",
   "metadata": {},
   "source": [
    "### Implementation of the standard neural network architecture\n",
    "Standard neural network with three fully connected layers with sizes of: 37 (states) -> 256 (hidden) -> 256 (hidden) -> 4 (actions)\n",
    "- Linear fully connected layers: https://pytorch.org/docs/master/generated/torch.nn.Linear.html\n",
    "- Exponential linear unit activation function: https://pytorch.org/docs/stable/nn.html#torch.nn.ELU\n",
    "- Dropout between fully connected layersfor regularization: https://pytorch.org/docs/master/generated/torch.nn.Dropout.html"
   ]
  },
  {
   "cell_type": "code",
   "execution_count": 11,
   "metadata": {},
   "outputs": [],
   "source": [
    "class QNetwork(nn.Module):\n",
    "\n",
    "    def __init__(self):\n",
    "\n",
    "        super(QNetwork, self).__init__()\n",
    "        self.seed = torch.manual_seed(RANDOM_SEED)\n",
    "    \n",
    "        self.fc1 = nn.Linear(STATE_SIZE, 2*FC_SIZE) # Size 37 -> 256\n",
    "        self.fc2 = nn.Linear(2*FC_SIZE, 2*FC_SIZE) # Size 256 -> 256\n",
    "        self.fc3 = nn.Linear(2*FC_SIZE, ACTION_SIZE) # Size 256 -> 4\n",
    "        \n",
    "        self.dropout = nn.Dropout(P_DROPOUT)\n",
    "\n",
    "    def forward(self, state):\n",
    "        \n",
    "        x = F.elu(self.fc1(state)) # Exponential linear unit\n",
    "        x = self.dropout(x) # Dropout for regularization\n",
    "        \n",
    "        x = F.elu(self.fc2(x))\n",
    "        x = self.dropout(x)\n",
    "        \n",
    "        action = self.fc3(x)\n",
    "        \n",
    "        return action # Yield action for agent"
   ]
  },
  {
   "cell_type": "markdown",
   "metadata": {},
   "source": [
    "### Implementation of the duelling neural network architecture\n",
    "Duelling neural network (https://arxiv.org/abs/1511.06581)with two shared fully connected layers of size: 37 (states) -> 256 (hidden) -> 256 (hidden) and two seperated fully connected layers with one of sizes 256 (hidden) -> 128 (hidden) -> 1 (value branch) and one with sizes 256 (hidden) -> 128 (hidden) -> 4 (advantage branch)\n",
    "- Linear fully connected layers: https://pytorch.org/docs/master/generated/torch.nn.Linear.html\n",
    "- Exponential linear unit activation function: https://pytorch.org/docs/stable/nn.html#torch.nn.ELU\n",
    "- Dropout between fully connected layersfor regularization: https://pytorch.org/docs/master/generated/torch.nn.Dropout.html\n",
    "- Combination of value and advantage branches according to original paper implementation: https://arxiv.org/abs/1511.06581"
   ]
  },
  {
   "cell_type": "code",
   "execution_count": 12,
   "metadata": {},
   "outputs": [],
   "source": [
    "class DuelQNetwork(QNetwork):\n",
    "\n",
    "    def __init__(self):\n",
    "\n",
    "        super(QNetwork, self).__init__()\n",
    "        self.seed = torch.manual_seed(RANDOM_SEED)\n",
    "    \n",
    "        self.fc1 = nn.Linear(STATE_SIZE, 2*FC_SIZE) # Size 37 -> 256\n",
    "        self.fc2 = nn.Linear(2*FC_SIZE, 2*FC_SIZE) # Size 256 -> 256\n",
    "        \n",
    "        self.val_1 = nn.Linear(2*FC_SIZE, FC_SIZE) # Size 256 -> 128\n",
    "        self.val_2 = nn.Linear(FC_SIZE, 1) # Size 128 -> 1\n",
    "        \n",
    "        self.adv_1 = nn.Linear(2*FC_SIZE, FC_SIZE) # Size 256 -> 128\n",
    "        self.adv_2 = nn.Linear(FC_SIZE, ACTION_SIZE) # Size 128 -> 4\n",
    "        \n",
    "        self.dropout = nn.Dropout(P_DROPOUT)\n",
    "        \n",
    "    def forward(self, state):\n",
    "        \n",
    "        x = F.elu(self.fc1(state)) # Exponential linear unit\n",
    "        x = self.dropout(x) # Dropout for regularization\n",
    "        \n",
    "        x = F.elu(self.fc2(x))\n",
    "        x = self.dropout(x)\n",
    "        \n",
    "        # Value branch\n",
    "        val = F.elu(self.val_1(x))\n",
    "        val = self.val_2(val).expand(state.size(0), ACTION_SIZE)\n",
    "        \n",
    "        # Advantage branch\n",
    "        adv = F.elu(self.adv_1(x))\n",
    "        adv = self.adv_2(adv)\n",
    "        \n",
    "        # Q(s,a) = V(s) + A(s,a) - mean(A(s,a))\n",
    "        action = val + adv - adv.mean(1).unsqueeze(1).expand(state.size(0), ACTION_SIZE)\n",
    "        \n",
    "        return action # Yield action for agent"
   ]
  },
  {
   "cell_type": "markdown",
   "metadata": {},
   "source": [
    "### Implementation of experience replay buffer\n",
    "Implementation follows the standard replay buffer implementation as described in the Udacity course videos regarding the DQN algorithm and the Lunar Lander example."
   ]
  },
  {
   "cell_type": "code",
   "execution_count": 13,
   "metadata": {},
   "outputs": [],
   "source": [
    "class ReplayBuffer:\n",
    "\n",
    "    def __init__(self):\n",
    "\n",
    "        self.memory = deque(maxlen = BUFFER_SIZE)  \n",
    "        self.experience = namedtuple(\"Experience\", field_names=[\"state\", \"action\", \"reward\", \"next_state\", \"done\"])\n",
    "        self.seed = random.seed(RANDOM_SEED)\n",
    "    \n",
    "    # Add an experience to the memory\n",
    "    def add(self, state, action, reward, next_state, done):\n",
    "\n",
    "        e = self.experience(state, action, reward, next_state, done)\n",
    "        self.memory.append(e)\n",
    "    \n",
    "    # Randomly sample experiences from the memory\n",
    "    def sample(self):\n",
    "\n",
    "        # Randomly draw a sample of size BATCH_SIZE\n",
    "        experiences = random.sample(self.memory, k=BATCH_SIZE)\n",
    "\n",
    "        states = torch.from_numpy(np.vstack([e.state for e in experiences if e is not None])).float().to(device)\n",
    "        actions = torch.from_numpy(np.vstack([e.action for e in experiences if e is not None])).long().to(device)\n",
    "        rewards = torch.from_numpy(np.vstack([e.reward for e in experiences if e is not None])).float().to(device)\n",
    "        next_states = torch.from_numpy(np.vstack([e.next_state for e in experiences if e is not None])).float().to(device)\n",
    "        dones = torch.from_numpy(np.vstack([e.done for e in experiences if e is not None]).astype(np.uint8)).float().to(device)\n",
    "  \n",
    "        return (states, actions, rewards, next_states, dones)\n",
    "\n",
    "    # Calculate length of memory\n",
    "    def __len__(self):\n",
    "\n",
    "        return len(self.memory)"
   ]
  },
  {
   "cell_type": "markdown",
   "metadata": {},
   "source": [
    "### Implementation of prioritized experience replay buffer\n",
    "\n",
    "This implementation follows the Paper of https://arxiv.org/abs/1511.05952 and was inspired by https://github.com/ucaiado/banana-rl."
   ]
  },
  {
   "cell_type": "code",
   "execution_count": 14,
   "metadata": {},
   "outputs": [],
   "source": [
    "class PriorityReplayBuffer(ReplayBuffer):\n",
    "\n",
    "    def __init__(self):\n",
    "\n",
    "        super(ReplayBuffer, self).__init__()\n",
    "        \n",
    "        self.memory = deque(maxlen = BUFFER_SIZE)  \n",
    "        self.experience = namedtuple(\"Experience\", field_names=[\"state\", \"action\", \"reward\", \"next_state\", \"done\"])\n",
    "        self.seed = random.seed(RANDOM_SEED)\n",
    "        \n",
    "        self.priority = deque(maxlen = BUFFER_SIZE)\n",
    "        self.cum_priority = 0.0 # Initialize cumulative priorities with 0.0\n",
    "        self.eps = 1e-6\n",
    "        self.indices = []\n",
    "\n",
    "    # Add an experience to the memory\n",
    "    # Update the total sum of priorities\n",
    "    def add(self, state, action, reward, next_state, done):\n",
    "\n",
    "        e = self.experience(state, action, reward, next_state, done)\n",
    "        self.memory.append(e)\n",
    "\n",
    "        if len(self.priority) >= BUFFER_SIZE:\n",
    "            self.cum_priority -= self.priority[0]\n",
    "\n",
    "        self.priority.append(1.0)\n",
    "        self.cum_priority += self.priority[-1]\n",
    "\n",
    "    def sample(self):\n",
    "\n",
    "        N = len(self.memory)\n",
    "        na_probs = None\n",
    "        \n",
    "        # Get fraction of priorities to cumulative priority\n",
    "        if self.cum_priority:\n",
    "            na_probs = np.array(self.priority) / self.cum_priority\n",
    "        \n",
    "        # Randomly draw a sample of size BATCH_SIZE but with account to priorities\n",
    "        l_index = np.random.choice(N, size=min(N, BATCH_SIZE),p=na_probs)\n",
    "        self.indices = l_index\n",
    "\n",
    "        # Sample from indices\n",
    "        experiences = [self.memory[ii] for ii in l_index]\n",
    "\n",
    "        states = torch.from_numpy(np.vstack([e.state for e in experiences if e is not None])).float().to(device)\n",
    "        actions = torch.from_numpy(np.vstack([e.action for e in experiences if e is not None])).long().to(device)\n",
    "        rewards = torch.from_numpy(np.vstack([e.reward for e in experiences if e is not None])).float().to(device)\n",
    "        next_states = torch.from_numpy(np.vstack([e.next_state for e in experiences if e is not None])).float().to(device)\n",
    "        dones = torch.from_numpy(np.vstack([e.done for e in experiences if e is not None]).astype(np.uint8)).float().to(device)\n",
    "  \n",
    "        return (states, actions, rewards, next_states, dones)\n",
    "\n",
    "    # Helper function for computing weights\n",
    "    def calc_w(self, f_prio, beta, max_w, N):\n",
    "\n",
    "        # Calculate weight\n",
    "        f_w = (N * f_prio / self.cum_priority)\n",
    "        \n",
    "        # Bias correction\n",
    "        result = (f_w ** (-beta)) / max_w\n",
    "        return result\n",
    "\n",
    "    # Calculate the weights of for each memory according to beta\n",
    "    def calculate_weights(self, inp_beta):\n",
    "\n",
    "        N = len(self.memory)\n",
    "        \n",
    "        # Maximum weight including bias correction\n",
    "        max_w = (N * min(self.priority) / self.cum_priority) ** (-inp_beta)\n",
    "\n",
    "        # Compute weight with helper function\n",
    "        w = [self.calc_w(self.priority[ii], inp_beta, max_w, N) for ii in self.indices]\n",
    "        \n",
    "        result = torch.tensor(w, device = device, dtype = torch.float).reshape(-1, 1)\n",
    "        return result\n",
    "\n",
    "    # Update priorities\n",
    "    def update_priority(self, td_err):\n",
    "\n",
    "        for i, f_tderr in zip(self.indices, td_err):\n",
    "            f_tderr = float(f_tderr)\n",
    "            self.cum_priority -= self.priority[i]\n",
    "            self.priority[i] = ((abs(f_tderr) + self.eps) ** ALPHA_INITIAL)\n",
    "            self.cum_priority += self.priority[i]\n",
    "        self.max_priority = max(self.priority)\n",
    "        self.indices = []\n",
    "\n",
    "    # Calculate length of memory\n",
    "    def __len__(self):\n",
    "\n",
    "        return len(self.memory)"
   ]
  },
  {
   "cell_type": "markdown",
   "metadata": {},
   "source": [
    "### Implementation of the Single Agent:\n",
    "Implementation follows the standard agent implementation as described in the Udacity course videos regarding the DQN algorithm and the Lunar Lander example.\n",
    "\n",
    "Standard implementation of Agent using:\n",
    "- Standard neural QNetwork with three fully connected layers, exponential linear unit and dropout regularization\n",
    "- Standard Q-learning algorithm\n",
    "- Standard epsilon greedy policy\n",
    "- Standard experience replay with random sampling\n",
    "- Standard Mean-squared-error loss function\n",
    "- Adam optimizer: https://pytorch.org/docs/stable/_modules/torch/optim/adam.html#Adam"
   ]
  },
  {
   "cell_type": "code",
   "execution_count": 16,
   "metadata": {},
   "outputs": [],
   "source": [
    "class SingleAgent():\n",
    "\n",
    "    def __init__(self):\n",
    "        \n",
    "        self.state_size = STATE_SIZE\n",
    "        self.action_size = ACTION_SIZE\n",
    "        self.seed = random.seed(RANDOM_SEED)\n",
    "\n",
    "        self.qnetwork_local = QNetwork().to(device) # Use standard network\n",
    "        self.qnetwork_target = QNetwork().to(device) # Use standard network\n",
    "        self.optimizer = optim.Adam(self.qnetwork_local.parameters(), lr=LR)  #Initialize Optimizer with new network\n",
    "\n",
    "        self.memory = ReplayBuffer() # Use standard experience replay\n",
    "        self.t_step = 0\n",
    "\n",
    "    # Perform step\n",
    "    def step(self, state, action, reward, next_state, done):\n",
    "        \n",
    "        # Add to memory\n",
    "        self.memory.add(state, action, reward, next_state, done)\n",
    "        \n",
    "        # Propagate time\n",
    "        self.t_step = (self.t_step + 1) % UPDATE_EVERY\n",
    "        \n",
    "        # Learn from experiences\n",
    "        if self.t_step == 0:\n",
    "            if len(self.memory) > BATCH_SIZE:\n",
    "                experiences = self.memory.sample()\n",
    "                self.learn(experiences)\n",
    "\n",
    "    # Choose action for agent according to given policy\n",
    "    def act(self, state, eps=0.):\n",
    "\n",
    "        state = torch.from_numpy(state).float().unsqueeze(0).to(device)\n",
    "        self.qnetwork_local.eval()\n",
    "        with torch.no_grad():\n",
    "            action_values = self.qnetwork_local(state)\n",
    "        self.qnetwork_local.train()\n",
    "\n",
    "        # epsilon greedy policy for exploration and exploitation\n",
    "        if random.random() > eps:\n",
    "            return np.argmax(action_values.cpu().data.numpy())\n",
    "        else:\n",
    "            return random.choice(np.arange(self.action_size))\n",
    "\n",
    "    # Learn from experiences\n",
    "    def learn(self, experiences):\n",
    "        \n",
    "        states, actions, rewards, next_states, dones = experiences\n",
    "\n",
    "        # Implement standardQ-learning\n",
    "        Q_targets_next = self.qnetwork_target(next_states).detach().max(1)[0].unsqueeze(1)\n",
    "        \n",
    "        # Calculate target Q\n",
    "        Q_targets = rewards + (GAMMA * Q_targets_next * (1.0 - dones))\n",
    "\n",
    "        # Get expected Q\n",
    "        Q_expected = self.qnetwork_local(states).gather(1, actions)\n",
    "        \n",
    "        # Standard mean-squared-error loss function\n",
    "        loss = F.mse_loss(Q_expected, Q_targets)\n",
    "        \n",
    "        # Reset gradients\n",
    "        self.optimizer.zero_grad()\n",
    "        # perform backpropagation\n",
    "        loss.backward()\n",
    "        # Optimize weights\n",
    "        self.optimizer.step()\n",
    "\n",
    "        # Update networks\n",
    "        self.soft_update(self.qnetwork_local, self.qnetwork_target)                     \n",
    "\n",
    "    def soft_update(self, local_model, target_model):\n",
    "\n",
    "        for target_param, local_param in zip(target_model.parameters(), local_model.parameters()):\n",
    "            target_param.data.copy_(TAU * local_param.data + (1.0 - TAU)*target_param.data)"
   ]
  },
  {
   "cell_type": "markdown",
   "metadata": {},
   "source": [
    "### Implementation of the Double Agent:\n",
    "Same as the Single Agent with two changes:\n",
    "- Double Q-Learning algorithm instead of single Q-Learning algorithm: https://arxiv.org/abs/1509.06461\n",
    "- Duelling neural DuelQNetwork instead of standard QNetwork"
   ]
  },
  {
   "cell_type": "code",
   "execution_count": 17,
   "metadata": {},
   "outputs": [],
   "source": [
    "class DoubleAgent(SingleAgent): # Inherit from SingleAgent\n",
    "\n",
    "    def __init__(self):\n",
    "\n",
    "        super(SingleAgent, self).__init__() # Inherit from SingleAgent\n",
    "\n",
    "        self.state_size = STATE_SIZE\n",
    "        self.action_size = ACTION_SIZE\n",
    "        self.seed = random.seed(RANDOM_SEED)\n",
    "        \n",
    "        self.qnetwork_local = DuelQNetwork().to(device) # Use Duelling network\n",
    "        self.qnetwork_target = DuelQNetwork().to(device) # Use Duelling network\n",
    "        self.optimizer = optim.Adam(self.qnetwork_local.parameters(), lr=LR) # Initialize Optimizer with new network\n",
    "\n",
    "        self.memory = ReplayBuffer() # use standard experience replay\n",
    "        self.t_step = 0\n",
    "        \n",
    "\n",
    "    def learn(self, experiences):\n",
    "\n",
    "        states, actions, rewards, next_states, dones = experiences\n",
    "\n",
    "        # Implement double Q-learning\n",
    "        Q_argmax = self.qnetwork_local(next_states).detach()\n",
    "        _, a_prime = Q_argmax.max(1)\n",
    "        Q_targets_next = self.qnetwork_target(next_states).gather(1, a_prime.unsqueeze(1))\n",
    "        \n",
    "        # Calculate target Q\n",
    "        Q_targets = rewards + (GAMMA * Q_targets_next * (1.0 - dones))\n",
    "        \n",
    "        # Get expected Q\n",
    "        Q_expected = self.qnetwork_local(states).gather(1, actions)\n",
    "        \n",
    "        # Standard mean-squared-error loss function\n",
    "        loss = F.mse_loss(Q_expected, Q_targets)\n",
    "        \n",
    "        # Reset gradients\n",
    "        self.optimizer.zero_grad()\n",
    "        # Perform backpropagation\n",
    "        loss.backward()\n",
    "        # Optimize weights\n",
    "        self.optimizer.step()\n",
    "\n",
    "        # Update networks\n",
    "        self.soft_update(self.qnetwork_local, self.qnetwork_target)  "
   ]
  },
  {
   "cell_type": "markdown",
   "metadata": {},
   "source": [
    "### Implementation of the Triple Agent:\n",
    "Same as SingleAgent with two changes:\n",
    " - Prioritized experience replay: https://arxiv.org/abs/1511.05952\n",
    " - Weighted mean-squared-error loss function"
   ]
  },
  {
   "cell_type": "code",
   "execution_count": 18,
   "metadata": {},
   "outputs": [],
   "source": [
    "class TripleAgent(SingleAgent): # Inherit from SingleAgent\n",
    "\n",
    "    def __init__(self):\n",
    "\n",
    "        super(SingleAgent, self).__init__() # Inherit from SingleAgent\n",
    "\n",
    "        self.state_size = STATE_SIZE\n",
    "        self.action_size = ACTION_SIZE\n",
    "        self.seed = random.seed(RANDOM_SEED)\n",
    "        \n",
    "        self.qnetwork_local = QNetwork().to(device) # Use standard network\n",
    "        self.qnetwork_target = QNetwork().to(device) # Use standard network\n",
    "        self.optimizer = optim.Adam(self.qnetwork_local.parameters(), lr=LR) # Initialize Optimizer with new network\n",
    "\n",
    "        self.memory = PriorityReplayBuffer() # use prioritized experience replay\n",
    "        self.t_step = 0\n",
    "\n",
    "    # Calculate beta for bias correction of prioritized experience replay memory\n",
    "    def calculate_beta(self, time):\n",
    "\n",
    "        result = BETA_INITIAL + min(float(time) / MAX_T, 1.0) * (1.0 - BETA_INITIAL)\n",
    "        return result\n",
    "\n",
    "    # Compute individual loss function: weighted-mean-squared-error\n",
    "    def calculate_loss(self, inp, exp, w):\n",
    "\n",
    "        # source: http://forums.fast.ai/t/how-to-make-a-custom-loss-function-pytorch/9059/20\n",
    "        mse = (inp - exp) ** 2.0\n",
    "        result = mse * w.expand_as(mse)\n",
    "        loss = result.mean(0)\n",
    "        return loss\n",
    "    \n",
    "    # Adaption of learning algorithm for prioritized experience replay\n",
    "    def learn(self, experiences, t=MAX_T):\n",
    "\n",
    "        states, actions, rewards, next_states, dones = experiences\n",
    "\n",
    "        # Implement double Q-learning\n",
    "        Q_argmax = self.qnetwork_local(next_states).detach()\n",
    "        _, a_prime = Q_argmax.max(1)\n",
    "        Q_targets_next = self.qnetwork_target(next_states).gather(1, a_prime.unsqueeze(1))\n",
    "        \n",
    "        # Calculate target Q\n",
    "        Q_targets = rewards + (GAMMA * Q_targets_next * (1.0 - dones))\n",
    "        \n",
    "        # Get expected Q\n",
    "        Q_expected = self.qnetwork_local(states).gather(1, actions)\n",
    "\n",
    "        # Update beta for bias correction\n",
    "        beta = self.calculate_beta(t)\n",
    "        # Compute weights\n",
    "        weights = self.memory.calculate_weights(inp_beta=beta)\n",
    "\n",
    "        # Compute error\n",
    "        td_err = Q_targets - Q_expected\n",
    "        # Update memory with error\n",
    "        self.memory.update_priority(td_err)\n",
    "\n",
    "        # Weighted mean-squared-error loss function\n",
    "        loss = self.calculate_loss(Q_targets, Q_expected, weights)\n",
    "        # Reset gradients\n",
    "        self.optimizer.zero_grad()\n",
    "        # Perform backpropagation\n",
    "        loss.backward()\n",
    "        # Optimize weights\n",
    "        self.optimizer.step()\n",
    "\n",
    "        # Update weights\n",
    "        self.soft_update(self.qnetwork_local, self.qnetwork_target)"
   ]
  },
  {
   "cell_type": "markdown",
   "metadata": {},
   "source": [
    "### Implementation of the Quadruple Agent:\n",
    "Same as TripleAgent with one change:\n",
    "- Duelling neural DuelQNetwork instead of standard QNetwork\n",
    "\n",
    "Note that the QuadrupleAgent features many of the improvements used in the Rainbow implementation (https://arxiv.org/abs/1710.02298), which is a state-of-the-art list of improvements and combined implementation for Deep Reinforcement learning."
   ]
  },
  {
   "cell_type": "code",
   "execution_count": 19,
   "metadata": {},
   "outputs": [],
   "source": [
    "class QuadrupleAgent(TripleAgent): # Inherit from TripleAgent\n",
    "\n",
    "    def __init__(self):\n",
    "\n",
    "        super(TripleAgent, self).__init__() # Inherit from TripleAgent\n",
    "\n",
    "        self.state_size = STATE_SIZE\n",
    "        self.action_size = ACTION_SIZE\n",
    "        self.seed = random.seed(RANDOM_SEED)\n",
    "        \n",
    "        self.qnetwork_local = DuelQNetwork().to(device) # Use Duelling network\n",
    "        self.qnetwork_target = DuelQNetwork().to(device) # Use Duelling network\n",
    "        self.optimizer = optim.Adam(self.qnetwork_local.parameters(), lr=LR) # Initialize Optimizer with new network\n",
    "\n",
    "        self.memory = PriorityReplayBuffer() # use prioritized experience replay\n",
    "        self.t_step = 0"
   ]
  },
  {
   "cell_type": "markdown",
   "metadata": {},
   "source": [
    "### Training of agent with Q-learning algorithm\n",
    "Algorithm loops over a maximumN_EPISODES=2000.0 and trains and agent in each episode for up to MAX_T=1000.0 time.\n",
    "\n",
    "- Every 100 episodes the current average score is outputted and the weights are written in a temporary file\n",
    "- Epsilon for the epsilon-greedy policy decays with time\n",
    "- The environment is considered solved if the average score is greater than ENV_SOLVED=13.0.\n",
    "- If the environment is solved, the training is stopped and the final weights are written in a file"
   ]
  },
  {
   "cell_type": "code",
   "execution_count": 20,
   "metadata": {},
   "outputs": [],
   "source": [
    "def dqn(agent,filename):\n",
    "    \n",
    "    scores = []                          # list containing scores from each episode\n",
    "    scores_window = deque(maxlen = 100)  # last 100 scores\n",
    "    eps = EPS_START                      # initialize epsilon\n",
    "    \n",
    "    for i_episode in range(1, N_EPISODES + 1):\n",
    "        env_info = env.reset(train_mode=True)[brain_name] # reset the environment\n",
    "        state = env_info.vector_observations[0]         # get the current state\n",
    "        score = 0 \n",
    "        \n",
    "        for t in range(MAX_T):\n",
    "            \n",
    "            action = agent.act(state, eps)                 # select an action     \n",
    "            \n",
    "            env_info = env.step(action.astype(int))[brain_name]        # send the action to the environment\n",
    "            \n",
    "            next_state = env_info.vector_observations[0]   # get the next state\n",
    "            reward = env_info.rewards[0]                   # get the reward\n",
    "            done = env_info.local_done[0]                  # see if episode has finished\n",
    "            \n",
    "            agent.step(state, action, reward, next_state, done) # agent step\n",
    "            \n",
    "            score += reward                                # update the score\n",
    "            state = next_state                             # roll over the state to next time step\n",
    "            if done:                                       # exit loop if episode finished\n",
    "                break\n",
    "\n",
    "        scores_window.append(score)       # save most recent score\n",
    "        scores.append(score)              # save most recent score\n",
    "        \n",
    "        eps = max(EPS_END, EPS_DECAY * eps) # decrease epsilon\n",
    "        \n",
    "        print('\\rEpisode {}\\tAverage Score: {:.2f}'.format(i_episode, np.mean(scores_window)), end=\"\")\n",
    "        \n",
    "        # Output temporary weights file every 100 episodes.\n",
    "        if i_episode % 100 == 0:\n",
    "            print('\\rEpisode {}\\tAverage Score: {:.2f}'.format(i_episode, np.mean(scores_window)))\n",
    "            torch.save(agent.qnetwork_local.state_dict(), filename+'_network_temp.pth')\n",
    "            \n",
    "        # Output final weights file at end of run.    \n",
    "        if np.mean(scores_window) > ENV_SOLVED:\n",
    "            print('\\nEnvironment solved in {:d} episodes!\\tAverage Score: {:.2f}'.format(i_episode, np.mean(scores_window)))\n",
    "            torch.save(agent.qnetwork_local.state_dict(), filename+'_network_final.pth')\n",
    "            break\n",
    "    return scores"
   ]
  },
  {
   "cell_type": "markdown",
   "metadata": {},
   "source": [
    "### Main-loop of the program:\n",
    "In the following cells all the previous implementations come into play.\n",
    "Each agent architecture is subsequently trained and the weights of the final solutions are stored in files.\n",
    "The average training scores are written into files and stored."
   ]
  },
  {
   "cell_type": "code",
   "execution_count": 21,
   "metadata": {},
   "outputs": [
    {
     "name": "stdout",
     "output_type": "stream",
     "text": [
      "Running on GPU.\n"
     ]
    }
   ],
   "source": [
    "if device == \"cpu\":\n",
    "    print(\"Running on CPU.\")\n",
    "else:\n",
    "    print(\"Running on GPU.\")"
   ]
  },
  {
   "cell_type": "code",
   "execution_count": 22,
   "metadata": {},
   "outputs": [
    {
     "name": "stdout",
     "output_type": "stream",
     "text": [
      "\n",
      "SingleAgent Run:\n",
      "\n",
      "Episode 100\tAverage Score: 1.06\n",
      "Episode 200\tAverage Score: 4.62\n",
      "Episode 300\tAverage Score: 7.57\n",
      "Episode 400\tAverage Score: 10.09\n",
      "Episode 500\tAverage Score: 12.17\n",
      "Episode 557\tAverage Score: 13.02\n",
      "Environment solved in 557 episodes!\tAverage Score: 13.02\n"
     ]
    }
   ],
   "source": [
    "print(\"\\nSingleAgent Run:\\n\")\n",
    "agent_single = SingleAgent()\n",
    "scores_single = dqn(agent_single, 'single')\n",
    "f = open('scores_single.pckl', 'wb')\n",
    "pickle.dump(scores_single, f)\n",
    "f.close()"
   ]
  },
  {
   "cell_type": "code",
   "execution_count": 23,
   "metadata": {},
   "outputs": [
    {
     "name": "stdout",
     "output_type": "stream",
     "text": [
      "\n",
      "DoubleAgent Run:\n",
      "\n",
      "Episode 100\tAverage Score: 1.19\n",
      "Episode 200\tAverage Score: 4.87\n",
      "Episode 300\tAverage Score: 8.46\n",
      "Episode 400\tAverage Score: 10.18\n",
      "Episode 500\tAverage Score: 12.53\n",
      "Episode 600\tAverage Score: 12.59\n",
      "Episode 634\tAverage Score: 13.08\n",
      "Environment solved in 634 episodes!\tAverage Score: 13.08\n"
     ]
    }
   ],
   "source": [
    "print(\"\\nDoubleAgent Run:\\n\")\n",
    "agent_double = DoubleAgent()\n",
    "scores_double = dqn(agent_double, 'double')\n",
    "f = open('scores_double.pckl', 'wb')\n",
    "pickle.dump(scores_double, f)\n",
    "f.close()"
   ]
  },
  {
   "cell_type": "code",
   "execution_count": 24,
   "metadata": {},
   "outputs": [
    {
     "name": "stdout",
     "output_type": "stream",
     "text": [
      "\n",
      "TripleAgent Run:\n",
      "\n",
      "Episode 100\tAverage Score: 0.62\n",
      "Episode 200\tAverage Score: 4.77\n",
      "Episode 300\tAverage Score: 7.46\n",
      "Episode 400\tAverage Score: 9.34\n",
      "Episode 500\tAverage Score: 12.50\n",
      "Episode 522\tAverage Score: 13.06\n",
      "Environment solved in 522 episodes!\tAverage Score: 13.06\n"
     ]
    }
   ],
   "source": [
    "print(\"\\nTripleAgent Run:\\n\")\n",
    "agent_triple = TripleAgent()\n",
    "scores_triple = dqn(agent_triple, 'triple')\n",
    "f = open('scores_triple.pckl', 'wb')\n",
    "pickle.dump(scores_triple, f)\n",
    "f.close()"
   ]
  },
  {
   "cell_type": "code",
   "execution_count": 25,
   "metadata": {},
   "outputs": [
    {
     "name": "stdout",
     "output_type": "stream",
     "text": [
      "\n",
      "QuadrupleAgent Run:\n",
      "\n",
      "Episode 100\tAverage Score: 0.62\n",
      "Episode 200\tAverage Score: 4.52\n",
      "Episode 300\tAverage Score: 7.49\n",
      "Episode 400\tAverage Score: 10.50\n",
      "Episode 500\tAverage Score: 12.82\n",
      "Episode 503\tAverage Score: 13.06\n",
      "Environment solved in 503 episodes!\tAverage Score: 13.06\n"
     ]
    }
   ],
   "source": [
    "print(\"\\nQuadrupleAgent Run:\\n\")\n",
    "agent_quadruple = QuadrupleAgent()\n",
    "scores_quadruple = dqn(agent_quadruple, 'quadruple')\n",
    "f = open('scores_quadruple.pckl', 'wb')\n",
    "pickle.dump(scores_quadruple, f)\n",
    "f.close()"
   ]
  },
  {
   "cell_type": "markdown",
   "metadata": {},
   "source": [
    "The average scores are loaded back from files and plotted."
   ]
  },
  {
   "cell_type": "code",
   "execution_count": 26,
   "metadata": {},
   "outputs": [
    {
     "data": {
      "image/png": "[encoded data removed]",
      "text/plain": [
       "<matplotlib.figure.Figure at 0x7fe388556978>"
      ]
     },
     "metadata": {
      "needs_background": "light"
     },
     "output_type": "display_data"
    },
    {
     "data": {
      "image/png": "[encoded data removed]",
      "text/plain": [
       "<matplotlib.figure.Figure at 0x7fe33ebaf390>"
      ]
     },
     "metadata": {
      "needs_background": "light"
     },
     "output_type": "display_data"
    }
   ],
   "source": [
    "# Definition of helper function to calculate rolling mean\n",
    "def runningMean(y, N):\n",
    "    x = np.asarray(y)\n",
    "    result = np.zeros(len(x))\n",
    "    for i in range(1,len(x)):\n",
    "        if i < int(N):\n",
    "            result[i] = np.mean(x[0:i]) # Fill up first data points where index is smaller than window size\n",
    "        else:\n",
    "            result[i] = np.mean(x[i-N:i]) # Calculate rolling mean where index is larger than window size\n",
    "    return result\n",
    "\n",
    "f = open('scores_single.pckl', 'rb')\n",
    "scores_single = pickle.load(f)\n",
    "f.close()\n",
    "f = open('scores_double.pckl', 'rb')\n",
    "scores_double = pickle.load(f)\n",
    "f.close()\n",
    "f = open('scores_triple.pckl', 'rb')\n",
    "scores_triple = pickle.load(f)\n",
    "f.close()\n",
    "f = open('scores_quadruple.pckl', 'rb')\n",
    "scores_quadruple = pickle.load(f)\n",
    "f.close()\n",
    "\n",
    "# Calculate average scores of all four Agents with the same window=100 as used in the Q-learning algorithm\n",
    "mean_single = runningMean(scores_single, 100)\n",
    "mean_double = runningMean(scores_double, 100)\n",
    "mean_triple = runningMean(scores_triple, 100)\n",
    "mean_quadruple = runningMean(scores_quadruple, 100)\n",
    "\n",
    "# Make four subplots and show results of each agent in one plot\n",
    "fig, axs = plt.subplots(2, 2, figsize=(12,12))\n",
    "axs[0, 0].plot(np.arange(len(scores_single)), scores_single, color=\"Black\")\n",
    "axs[0, 0].plot(np.arange(len(mean_single)), mean_single, 'tab:orange')\n",
    "axs[0, 0].axhline(y=13.0, color=\"Black\")\n",
    "axs[0, 0].set_title('Single Agent')\n",
    "\n",
    "axs[0, 1].plot(np.arange(len(scores_double)), scores_double, color=\"Black\")\n",
    "axs[0, 1].plot(np.arange(len(mean_double)), mean_double, 'tab:blue')\n",
    "axs[0, 1].axhline(y=13.0, color=\"Black\")\n",
    "axs[0, 1].set_title('Double Agent')\n",
    "\n",
    "axs[1, 0].plot(np.arange(len(scores_triple)), scores_triple, color=\"Black\")\n",
    "axs[1, 0].plot(np.arange(len(mean_triple)), mean_triple, 'tab:red')\n",
    "axs[1, 0].axhline(y=13.0, color=\"Black\")\n",
    "axs[1, 0].set_title('Triple Agent')\n",
    "\n",
    "axs[1, 1].plot(np.arange(len(scores_quadruple)), scores_quadruple, color=\"Black\")\n",
    "axs[1, 1].plot(np.arange(len(mean_quadruple)), mean_quadruple, 'tab:green')\n",
    "axs[1, 1].axhline(y=13.0, color=\"Black\")\n",
    "axs[1, 1].set_title('Quadruple Agent')\n",
    "\n",
    "for ax in axs.flat:\n",
    "    ax.set(xlabel='Episode #', ylabel='Score')\n",
    "\n",
    "for ax in axs.flat:\n",
    "    ax.label_outer()\n",
    "\n",
    "# Show averages of all fou agents in a single plot for comparison\n",
    "fig = plt.figure(figsize=(8,8))\n",
    "ax = fig.add_subplot(111)\n",
    "plt.plot(np.arange(len(mean_single)), mean_single, 'tab:orange')\n",
    "plt.plot(np.arange(len(mean_double)), mean_double, 'tab:blue')\n",
    "plt.plot(np.arange(len(mean_triple)), mean_triple, 'tab:red')\n",
    "plt.plot(np.arange(len(mean_quadruple)), mean_quadruple, 'tab:green')\n",
    "\n",
    "plt.axhline(y=13.0, color=\"Black\")\n",
    "\n",
    "plt.title('Comparison of all four Agents')\n",
    "plt.xlabel('Episode #')\n",
    "plt.ylabel('Score')\n",
    "plt.show()"
   ]
  },
  {
   "cell_type": "markdown",
   "metadata": {},
   "source": [
    "# Conclusions and future improvements\n"
   ]
  },
  {
   "cell_type": "markdown",
   "metadata": {},
   "source": [
    "In this project I have implemented four different Agents with two different neural network architectures to solve the Banana Navigation OpenAI Gym problem.\n",
    "\n",
    "The performances are as follows:\n",
    "- SingleAgent requires 557 episodes to solve the problem\n",
    "- DoubleAgent requires 634 episodes to solve the problem\n",
    "- TripleAgent requires 522 episodes to solve the problem\n",
    "- QuadrupleAgent requires 503 episodes to solve the problem\n",
    "\n",
    "However, I want to stress out, that the complexity of the algorithms of QuadrupleAgent are higher than of the SingleAgent. Therefore, solving in lesser episodes does not necessarily mean that the solution requires less computational time. Because training the QuadrupleAgent requires more time per episode than training the SingleAgent.\n",
    "\n",
    "Nevertheless, it is clear that more advanced algorithms, with double q-learning, duelling neural networks, exponential linear units, dropout regularization or prioritized experience replay as shown in this project work are better than simple standard approaches.\n",
    "\n",
    "It can also be seen in the RainBow https://arxiv.org/abs/1710.02298 implementation of DeepMind, which combines even more improvements for Deep Reinforcement Learning.\n",
    "That would include to add parametric noise to the weights as described by https://arxiv.org/abs/1706.10295.\n",
    "\n",
    "In the future, it would very well be worthwhile to try more of these improvements or a full RainBow approach.\n",
    "\n",
    "Further future work might include solving the problem from pixels. THen the agent, would not recieve a numerical input state vector, but an array of pixels, which need to be processed with convolutional layers. As described in the original DeepMind Nature paper https://deepmind.com/research/publications/human-level-control-through-deep-reinforcement-learning superhuman-control can be reached.\n",
    "\n",
    "Of course, at last, a complete study of exploration of the hyperparameter space is necessary, which would lead to some questions like this: How many layers perform best? How many neurons? Which activation functions? Linear or exponential epsilon decay?  How to choose the discount factor for reward?\n",
    "\n",
    "More ideas:\n",
    "- Port the algorithm into C++...\n",
    "- Run the training on Nvidia Jetson..."
   ]
  },
  {
   "cell_type": "code",
   "execution_count": null,
   "metadata": {},
   "outputs": [],
   "source": []
  }
 ],
 "metadata": {
  "kernelspec": {
   "display_name": "Python 3",
   "language": "python",
   "name": "python3"
  },
  "language_info": {
   "codemirror_mode": {
    "name": "ipython",
    "version": 3
   },
   "file_extension": ".py",
   "mimetype": "text/x-python",
   "name": "python",
   "nbconvert_exporter": "python",
   "pygments_lexer": "ipython3",
   "version": "3.7.6"
  }
 },
 "nbformat": 4,
 "nbformat_minor": 2
}
