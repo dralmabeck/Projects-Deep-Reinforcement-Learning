{
 "cells": [
  {
   "cell_type": "markdown",
   "metadata": {},
   "source": [
    "# Deep Q-Network (DQN)\n",
    "---\n",
    "In this notebook, I implemented several DQN agents with OpenAI Gym's LunarLander-v2 environment.\n",
    "\n",
    "The work is based on a project by the Udacity Deep Reinforcement Learning Nanodegree: https://www.udacity.com/course/deep-reinforcement-learning-nanodegree--nd893\n",
    "\n",
    "This Notebook is part of the GitHub repository: https://github.com/dralmabeck and based on https://github.com/udacity/deep-reinforcement-learning\n",
    "\n",
    "### 1. Import the Necessary Packages"
   ]
  },
  {
   "cell_type": "code",
   "execution_count": 1,
   "metadata": {},
   "outputs": [],
   "source": [
    "import gym\n",
    "import time\n",
    "import pickle\n",
    "import math\n",
    "import datetime\n",
    "import random\n",
    "import numpy as np\n",
    "from collections import namedtuple, deque\n",
    "import matplotlib.pyplot as plt\n",
    "%matplotlib inline\n",
    "\n",
    "import torch\n",
    "import torch.nn as nn\n",
    "import torch.nn.functional as F\n",
    "import torch.optim as optim"
   ]
  },
  {
   "cell_type": "markdown",
   "metadata": {},
   "source": [
    "### 2. Instantiate the Environment and Agent\n",
    "\n",
    "Initialize the environment in the code cell below."
   ]
  },
  {
   "cell_type": "code",
   "execution_count": 2,
   "metadata": {},
   "outputs": [
    {
     "name": "stdout",
     "output_type": "stream",
     "text": [
      "State shape:  (8,)\n",
      "Number of actions:  4\n"
     ]
    }
   ],
   "source": [
    "env = gym.make('LunarLander-v2')\n",
    "env.seed(0)\n",
    "print('State shape: ', env.observation_space.shape)\n",
    "print('Number of actions: ', env.action_space.n)"
   ]
  },
  {
   "cell_type": "markdown",
   "metadata": {},
   "source": [
    "### Watch an untrained Agent"
   ]
  },
  {
   "cell_type": "code",
   "execution_count": 3,
   "metadata": {},
   "outputs": [],
   "source": [
    "from dqn_agent import Agent\n",
    "\n",
    "agent = Agent(state_size=8, action_size=4, seed=0)\n",
    "\n",
    "# watch an untrained agent\n",
    "state = env.reset()\n",
    "for j in range(200):\n",
    "    action = agent.act(state)\n",
    "    env.render()\n",
    "    state, reward, done, _ = env.step(action)\n",
    "    if done:\n",
    "        break \n",
    "        \n",
    "env.close()"
   ]
  },
  {
   "cell_type": "markdown",
   "metadata": {},
   "source": [
    "### 3. Train the Agent with DQN"
   ]
  },
  {
   "cell_type": "markdown",
   "metadata": {},
   "source": [
    "The following sections show my code and results from my work on this project.\n",
    "\n",
    "I have implemented two different neural network architectures:\n",
    "- Standard neural network with three fully connected layers with sizes of: 8 (states) -> 128 (hidden) -> 128 (hidden) -> 4 (actions)\n",
    "- Duelling neural network (https://arxiv.org/abs/1511.06581) with two shared fully connected layers of size: 8 (states) -> 128 (hidden) -> 128 (hidden) and two seperated fully connected layers with one of sizes 128 (hidden) -> 64 (hidden) -> 1 (value branch) and one with sizes 128 (hidden) -> 64 (hidden) -> 4 (advantage branch)\n",
    "\n",
    "Both neural network architectures implement:\n",
    "- Linear fully connected layers: https://pytorch.org/docs/master/generated/torch.nn.Linear.html\n",
    "- Exponential linear unit activation function: https://pytorch.org/docs/stable/nn.html#torch.nn.ELU\n",
    "- Dropout between fully connected layersfor regularization: https://pytorch.org/docs/master/generated/torch.nn.Dropout.html\n",
    "\n",
    "I have implemented four different agents interacting with the environment:\n",
    "- SingleAgent:\n",
    "\n",
    " - Standard implementation of Agent using:\n",
    " - Standard neural QNetwork with three fully connected layers, exponential linear unit and dropout regularization\n",
    " - Standard Q-learning algorithm\n",
    " - Standard epsilon greedy policy\n",
    " - Standard experience replay with random sampling\n",
    " - Standard Mean-squared-error loss function\n",
    " - Adam optimizer: https://pytorch.org/docs/stable/_modules/torch/optim/adam.html#Adam\n",
    " \n",
    "\n",
    "- DoubleAgent:\n",
    "\n",
    " - Same as SingleAgent with two changes:\n",
    " - Double Q-Learning algorithm instead of single Q-Learning algorithm: https://arxiv.org/abs/1509.06461\n",
    " - Duelling neural DuelQNetwork instead of standard QNetwork\n",
    "\n",
    "- Triple Agent:\n",
    "\n",
    " - Same as SingleAgent with two changes:\n",
    " - Prioritized experience replay: https://arxiv.org/abs/1511.05952\n",
    " - Weighted mean-squared-error loss function\n",
    "\n",
    "- QuadrupleAgent:\n",
    "\n",
    " - Same as TripleAgent with one change:\n",
    " - Duelling neural DuelQNetwork instead of standard QNetwork\n",
    "\n",
    "Note that the QuadrupleAgent features many of the improvements used in the Rainbow implementation (https://arxiv.org/abs/1710.02298), which is a state-of-the-art list of improvements and combined implementation for Deep Reinforcement learning."
   ]
  },
  {
   "cell_type": "markdown",
   "metadata": {},
   "source": [
    "### Setting of variables for the neural network, training algorithms and unity environments"
   ]
  },
  {
   "cell_type": "code",
   "execution_count": 4,
   "metadata": {},
   "outputs": [],
   "source": [
    "BUFFER_SIZE = int(1e5)     # replay buffer size\n",
    "BATCH_SIZE = 64            # minibatch size\n",
    "GAMMA = 0.99               # discount factor\n",
    "TAU = 0.001                # for soft update of target parameters\n",
    "LR = 0.0005                # learning rate \n",
    "UPDATE_EVERY = 4           # how often to update the network\n",
    "\n",
    "FC_SIZE = 48               # number of neurons in layer of neural network\n",
    "P_DROPOUT = 0.0            # dropout probability for neurons and network regularization\n",
    "\n",
    "ACTION_SIZE = 4            # number of actions\n",
    "STATE_SIZE = 8             # number of states\n",
    "\n",
    "N_EPISODES = 2000          # number of maximum episodes for training\n",
    "MAX_T = 1000               # maximum time agent is in the environment in each episode\n",
    "EPS_START = 1.0            # Initial Epsilon for Exploration - Exploitation\n",
    "EPS_END = 0.01             # minimum value of epsilon\n",
    "EPS_DECAY = 0.995          # linear decay of epsilon each timestep\n",
    "\n",
    "ALPHA_INITIAL = 0.6        # exponent of priorization https://arxiv.org/pdf/1511.05952.pdf\n",
    "BETA_INITIAL = 0.4         # exponent of importance sampling weights https://arxiv.org/pdf/1511.05952.pdf\n",
    "\n",
    "ENV_SOLVED = 200.0 + 15.0        # average score of agent to consider environment solved\n",
    "\n",
    "RANDOM_SEED = 2            # seed integer for random number generator"
   ]
  },
  {
   "cell_type": "markdown",
   "metadata": {},
   "source": [
    "### Check if training on GPU is possible, else use CPU"
   ]
  },
  {
   "cell_type": "code",
   "execution_count": 5,
   "metadata": {},
   "outputs": [
    {
     "name": "stdout",
     "output_type": "stream",
     "text": [
      "Available: CPU only\n"
     ]
    }
   ],
   "source": [
    "# If GPU is available use for training otherwise use CPU\n",
    "device = torch.device(\"cuda:0\" if torch.cuda.is_available() else \"cpu\")\n",
    "\n",
    "device = \"cpu\"\n",
    "\n",
    "if device == \"cpu\":\n",
    "    print(\"Available: CPU only\")\n",
    "else:\n",
    "    print(\"Available: GPU cuda\")"
   ]
  },
  {
   "cell_type": "markdown",
   "metadata": {},
   "source": [
    "### Implementation of the standard neural network architecture\n",
    "Standard neural network with three fully connected layers with sizes of: 8 (states) -> 128 (hidden) -> 128 (hidden) -> 4 (actions)\n",
    "- Linear fully connected layers: https://pytorch.org/docs/master/generated/torch.nn.Linear.html\n",
    "- Exponential linear unit activation function: https://pytorch.org/docs/stable/nn.html#torch.nn.ELU\n",
    "- Dropout between fully connected layersfor regularization: https://pytorch.org/docs/master/generated/torch.nn.Dropout.html"
   ]
  },
  {
   "cell_type": "code",
   "execution_count": 6,
   "metadata": {},
   "outputs": [],
   "source": [
    "class QNetwork(nn.Module):\n",
    "\n",
    "    def __init__(self):\n",
    "\n",
    "        super(QNetwork, self).__init__()\n",
    "        self.seed = torch.manual_seed(RANDOM_SEED)\n",
    "    \n",
    "        self.fc1 = nn.Linear(STATE_SIZE, 2*FC_SIZE) # Size 8 -> 128\n",
    "        self.fc2 = nn.Linear(2*FC_SIZE, 2*FC_SIZE) # Size 128 -> 128\n",
    "        self.fc3 = nn.Linear(2*FC_SIZE, ACTION_SIZE) # Size 128 -> 4\n",
    "        \n",
    "        self.dropout = nn.Dropout(P_DROPOUT)\n",
    "\n",
    "    def forward(self, state):\n",
    "        \n",
    "        x = F.elu(self.fc1(state)) # Exponential linear unit\n",
    "        x = self.dropout(x) # Dropout for regularization\n",
    "        \n",
    "        x = F.elu(self.fc2(x))\n",
    "        x = self.dropout(x)\n",
    "        \n",
    "        action = self.fc3(x)\n",
    "        \n",
    "        return action # Yield action for agent"
   ]
  },
  {
   "cell_type": "markdown",
   "metadata": {},
   "source": [
    "### Implementation of the duelling neural network architecture\n",
    "Duelling neural network (https://arxiv.org/abs/1511.06581)with two shared fully connected layers of size: 8 (states) -> 128 (hidden) -> 128 (hidden) and two seperated fully connected layers with one of sizes 128 (hidden) -> 64 (hidden) -> 1 (value branch) and one with sizes 128 (hidden) -> 64 (hidden) -> 4 (advantage branch)\n",
    "- Linear fully connected layers: https://pytorch.org/docs/master/generated/torch.nn.Linear.html\n",
    "- Exponential linear unit activation function: https://pytorch.org/docs/stable/nn.html#torch.nn.ELU\n",
    "- Dropout between fully connected layersfor regularization: https://pytorch.org/docs/master/generated/torch.nn.Dropout.html\n",
    "- Combination of value and advantage branches according to original paper implementation: https://arxiv.org/abs/1511.06581"
   ]
  },
  {
   "cell_type": "code",
   "execution_count": 7,
   "metadata": {},
   "outputs": [],
   "source": [
    "class DuelQNetwork(QNetwork):\n",
    "\n",
    "    def __init__(self):\n",
    "\n",
    "        super(QNetwork, self).__init__()\n",
    "        self.seed = torch.manual_seed(RANDOM_SEED)\n",
    "    \n",
    "        self.fc1 = nn.Linear(STATE_SIZE, 2*FC_SIZE) # Size 8 -> 128\n",
    "        self.fc2 = nn.Linear(2*FC_SIZE, 2*FC_SIZE) # Size 128 -> 128\n",
    "        \n",
    "        self.val_1 = nn.Linear(2*FC_SIZE, FC_SIZE) # Size 128 -> 64\n",
    "        self.val_2 = nn.Linear(FC_SIZE, 1) # Size 64 -> 1\n",
    "        \n",
    "        self.adv_1 = nn.Linear(2*FC_SIZE, FC_SIZE) # Size 128 -> 64\n",
    "        self.adv_2 = nn.Linear(FC_SIZE, ACTION_SIZE) # Size 64 -> 4\n",
    "        \n",
    "        self.dropout = nn.Dropout(P_DROPOUT)\n",
    "        \n",
    "    def forward(self, state):\n",
    "        \n",
    "        x = F.elu(self.fc1(state)) # Exponential linear unit\n",
    "        x = self.dropout(x) # Dropout for regularization\n",
    "        \n",
    "        x = F.elu(self.fc2(x))\n",
    "        x = self.dropout(x)\n",
    "        \n",
    "        # Value branch\n",
    "        val = F.elu(self.val_1(x))\n",
    "        val = self.val_2(val).expand(state.size(0), ACTION_SIZE)\n",
    "        \n",
    "        # Advantage branch\n",
    "        adv = F.elu(self.adv_1(x))\n",
    "        adv = self.adv_2(adv)\n",
    "        \n",
    "        # Q(s,a) = V(s) + A(s,a) - mean(A(s,a))\n",
    "        action = val + adv - adv.mean(1).unsqueeze(1).expand(state.size(0), ACTION_SIZE)\n",
    "        \n",
    "        return action # Yield action for agent"
   ]
  },
  {
   "cell_type": "markdown",
   "metadata": {},
   "source": [
    "### Implementation of experience replay buffer\n",
    "Implementation follows the standard replay buffer implementation as described in the Udacity course videos regarding the DQN algorithm and the Lunar Lander example."
   ]
  },
  {
   "cell_type": "code",
   "execution_count": 8,
   "metadata": {},
   "outputs": [],
   "source": [
    "class ReplayBuffer:\n",
    "\n",
    "    def __init__(self):\n",
    "\n",
    "        self.memory = deque(maxlen = BUFFER_SIZE)  \n",
    "        self.experience = namedtuple(\"Experience\", field_names=[\"state\", \"action\", \"reward\", \"next_state\", \"done\"])\n",
    "        self.seed = random.seed(RANDOM_SEED)\n",
    "    \n",
    "    # Add an experience to the memory\n",
    "    def add(self, state, action, reward, next_state, done):\n",
    "\n",
    "        e = self.experience(state, action, reward, next_state, done)\n",
    "        self.memory.append(e)\n",
    "    \n",
    "    # Randomly sample experiences from the memory\n",
    "    def sample(self):\n",
    "\n",
    "        # Randomly draw a sample of size BATCH_SIZE\n",
    "        experiences = random.sample(self.memory, k=BATCH_SIZE)\n",
    "\n",
    "        states = torch.from_numpy(np.vstack([e.state for e in experiences if e is not None])).float().to(device)\n",
    "        actions = torch.from_numpy(np.vstack([e.action for e in experiences if e is not None])).long().to(device)\n",
    "        rewards = torch.from_numpy(np.vstack([e.reward for e in experiences if e is not None])).float().to(device)\n",
    "        next_states = torch.from_numpy(np.vstack([e.next_state for e in experiences if e is not None])).float().to(device)\n",
    "        dones = torch.from_numpy(np.vstack([e.done for e in experiences if e is not None]).astype(np.uint8)).float().to(device)\n",
    "  \n",
    "        return (states, actions, rewards, next_states, dones)\n",
    "\n",
    "    # Calculate length of memory\n",
    "    def __len__(self):\n",
    "\n",
    "        return len(self.memory)"
   ]
  },
  {
   "cell_type": "markdown",
   "metadata": {},
   "source": [
    "### Implementation of prioritized experience replay buffer\n",
    "\n",
    "This implementation follows the Paper of https://arxiv.org/abs/1511.05952 and was inspired by https://github.com/ucaiado/banana-rl."
   ]
  },
  {
   "cell_type": "code",
   "execution_count": 9,
   "metadata": {},
   "outputs": [],
   "source": [
    "class PriorityReplayBuffer(ReplayBuffer):\n",
    "\n",
    "    def __init__(self):\n",
    "\n",
    "        super(ReplayBuffer, self).__init__()\n",
    "        \n",
    "        self.memory = deque(maxlen = BUFFER_SIZE)  \n",
    "        self.experience = namedtuple(\"Experience\", field_names=[\"state\", \"action\", \"reward\", \"next_state\", \"done\"])\n",
    "        self.seed = random.seed(RANDOM_SEED)\n",
    "        \n",
    "        self.priority = deque(maxlen = BUFFER_SIZE)\n",
    "        self.cum_priority = 0.0 # Initialize cumulative priorities with 0.0\n",
    "        self.eps = 1e-6\n",
    "        self.indices = []\n",
    "\n",
    "    # Add an experience to the memory\n",
    "    # Update the total sum of priorities\n",
    "    def add(self, state, action, reward, next_state, done):\n",
    "\n",
    "        e = self.experience(state, action, reward, next_state, done)\n",
    "        self.memory.append(e)\n",
    "\n",
    "        if len(self.priority) >= BUFFER_SIZE:\n",
    "            self.cum_priority -= self.priority[0]\n",
    "\n",
    "        self.priority.append(1.0)\n",
    "        self.cum_priority += self.priority[-1]\n",
    "\n",
    "    def sample(self):\n",
    "\n",
    "        N = len(self.memory)\n",
    "        na_probs = None\n",
    "        \n",
    "        # Get fraction of priorities to cumulative priority\n",
    "        if self.cum_priority:\n",
    "            na_probs = np.array(self.priority) / self.cum_priority\n",
    "        \n",
    "        # Randomly draw a sample of size BATCH_SIZE but with account to priorities\n",
    "        l_index = np.random.choice(N, size=min(N, BATCH_SIZE),p=na_probs)\n",
    "        self.indices = l_index\n",
    "\n",
    "        # Sample from indices\n",
    "        experiences = [self.memory[ii] for ii in l_index]\n",
    "\n",
    "        states = torch.from_numpy(np.vstack([e.state for e in experiences if e is not None])).float().to(device)\n",
    "        actions = torch.from_numpy(np.vstack([e.action for e in experiences if e is not None])).long().to(device)\n",
    "        rewards = torch.from_numpy(np.vstack([e.reward for e in experiences if e is not None])).float().to(device)\n",
    "        next_states = torch.from_numpy(np.vstack([e.next_state for e in experiences if e is not None])).float().to(device)\n",
    "        dones = torch.from_numpy(np.vstack([e.done for e in experiences if e is not None]).astype(np.uint8)).float().to(device)\n",
    "  \n",
    "        return (states, actions, rewards, next_states, dones)\n",
    "\n",
    "    # Helper function for computing weights\n",
    "    def calc_w(self, f_prio, beta, max_w, N):\n",
    "\n",
    "        # Calculate weight\n",
    "        f_w = (N * f_prio / self.cum_priority)\n",
    "        \n",
    "        # Bias correction\n",
    "        result = (f_w ** (-beta)) / max_w\n",
    "        return result\n",
    "\n",
    "    # Calculate the weights of for each memory according to beta\n",
    "    def calculate_weights(self, inp_beta):\n",
    "\n",
    "        N = len(self.memory)\n",
    "        \n",
    "        # Maximum weight including bias correction\n",
    "        max_w = (N * min(self.priority) / self.cum_priority) ** (-inp_beta)\n",
    "\n",
    "        # Compute weight with helper function\n",
    "        w = [self.calc_w(self.priority[ii], inp_beta, max_w, N) for ii in self.indices]\n",
    "        \n",
    "        result = torch.tensor(w, device = device, dtype = torch.float).reshape(-1, 1)\n",
    "        return result\n",
    "\n",
    "    # Update priorities\n",
    "    def update_priority(self, td_err):\n",
    "\n",
    "        for i, f_tderr in zip(self.indices, td_err):\n",
    "            f_tderr = float(f_tderr)\n",
    "            self.cum_priority -= self.priority[i]\n",
    "            self.priority[i] = ((abs(f_tderr) + self.eps) ** ALPHA_INITIAL)\n",
    "            self.cum_priority += self.priority[i]\n",
    "        self.max_priority = max(self.priority)\n",
    "        self.indices = []\n",
    "\n",
    "    # Calculate length of memory\n",
    "    def __len__(self):\n",
    "\n",
    "        return len(self.memory)"
   ]
  },
  {
   "cell_type": "markdown",
   "metadata": {},
   "source": [
    "### Implementation of the Single Agent:\n",
    "Implementation follows the standard agent implementation as described in the Udacity course videos regarding the DQN algorithm and the Lunar Lander example.\n",
    "\n",
    "Standard implementation of Agent using:\n",
    "- Standard neural QNetwork with three fully connected layers, exponential linear unit and dropout regularization\n",
    "- Standard Q-learning algorithm\n",
    "- Standard epsilon greedy policy\n",
    "- Standard experience replay with random sampling\n",
    "- Standard Mean-squared-error loss function\n",
    "- Adam optimizer: https://pytorch.org/docs/stable/_modules/torch/optim/adam.html#Adam"
   ]
  },
  {
   "cell_type": "code",
   "execution_count": 10,
   "metadata": {},
   "outputs": [],
   "source": [
    "class SingleAgent():\n",
    "\n",
    "    def __init__(self):\n",
    "        \n",
    "        self.state_size = STATE_SIZE\n",
    "        self.action_size = ACTION_SIZE\n",
    "        self.seed = random.seed(RANDOM_SEED)\n",
    "\n",
    "        self.qnetwork_local = QNetwork().to(device) # Use standard network\n",
    "        self.qnetwork_target = QNetwork().to(device) # Use standard network\n",
    "        self.optimizer = optim.Adam(self.qnetwork_local.parameters(), lr=LR)  #Initialize Optimizer with new network\n",
    "\n",
    "        self.memory = ReplayBuffer() # Use standard experience replay\n",
    "        self.t_step = 0\n",
    "\n",
    "    # Perform step\n",
    "    def step(self, state, action, reward, next_state, done):\n",
    "        \n",
    "        # Add to memory\n",
    "        self.memory.add(state, action, reward, next_state, done)\n",
    "        \n",
    "        # Propagate time\n",
    "        self.t_step = (self.t_step + 1) % UPDATE_EVERY\n",
    "        \n",
    "        # Learn from experiences\n",
    "        if self.t_step == 0:\n",
    "            if len(self.memory) > BATCH_SIZE:\n",
    "                experiences = self.memory.sample()\n",
    "                self.learn(experiences)\n",
    "\n",
    "    # Choose action for agent according to given policy\n",
    "    def act(self, state, eps=0.):\n",
    "\n",
    "        state = torch.from_numpy(state).float().unsqueeze(0).to(device)\n",
    "        self.qnetwork_local.eval()\n",
    "        with torch.no_grad():\n",
    "            action_values = self.qnetwork_local(state)\n",
    "        self.qnetwork_local.train()\n",
    "\n",
    "        # epsilon greedy policy for exploration and exploitation\n",
    "        if random.random() > eps:\n",
    "            return np.argmax(action_values.cpu().data.numpy())\n",
    "        else:\n",
    "            return random.choice(np.arange(self.action_size))\n",
    "\n",
    "    # Learn from experiences\n",
    "    def learn(self, experiences):\n",
    "        \n",
    "        states, actions, rewards, next_states, dones = experiences\n",
    "\n",
    "        # Implement standardQ-learning\n",
    "        Q_targets_next = self.qnetwork_target(next_states).detach().max(1)[0].unsqueeze(1)\n",
    "        \n",
    "        # Calculate target Q\n",
    "        Q_targets = rewards + (GAMMA * Q_targets_next * (1.0 - dones))\n",
    "\n",
    "        # Get expected Q\n",
    "        Q_expected = self.qnetwork_local(states).gather(1, actions)\n",
    "        \n",
    "        # Standard mean-squared-error loss function\n",
    "        loss = F.mse_loss(Q_expected, Q_targets)\n",
    "        \n",
    "        # Reset gradients\n",
    "        self.optimizer.zero_grad()\n",
    "        # perform backpropagation\n",
    "        loss.backward()\n",
    "        # Optimize weights\n",
    "        self.optimizer.step()\n",
    "\n",
    "        # Update networks\n",
    "        self.soft_update(self.qnetwork_local, self.qnetwork_target)                     \n",
    "\n",
    "    def soft_update(self, local_model, target_model):\n",
    "\n",
    "        for target_param, local_param in zip(target_model.parameters(), local_model.parameters()):\n",
    "            target_param.data.copy_(TAU * local_param.data + (1.0 - TAU)*target_param.data)"
   ]
  },
  {
   "cell_type": "markdown",
   "metadata": {},
   "source": [
    "### Implementation of the Double Agent:\n",
    "Same as the Single Agent with two changes:\n",
    "- Double Q-Learning algorithm instead of single Q-Learning algorithm: https://arxiv.org/abs/1509.06461\n",
    "- Duelling neural DuelQNetwork instead of standard QNetwork"
   ]
  },
  {
   "cell_type": "code",
   "execution_count": 11,
   "metadata": {},
   "outputs": [],
   "source": [
    "class DoubleAgent(SingleAgent): # Inherit from SingleAgent\n",
    "\n",
    "    def __init__(self):\n",
    "\n",
    "        super(SingleAgent, self).__init__() # Inherit from SingleAgent\n",
    "\n",
    "        self.state_size = STATE_SIZE\n",
    "        self.action_size = ACTION_SIZE\n",
    "        self.seed = random.seed(RANDOM_SEED)\n",
    "        \n",
    "        self.qnetwork_local = DuelQNetwork().to(device) # Use Duelling network\n",
    "        self.qnetwork_target = DuelQNetwork().to(device) # Use Duelling network\n",
    "        self.optimizer = optim.Adam(self.qnetwork_local.parameters(), lr=LR) # Initialize Optimizer with new network\n",
    "\n",
    "        self.memory = ReplayBuffer() # use standard experience replay\n",
    "        self.t_step = 0\n",
    "        \n",
    "\n",
    "    def learn(self, experiences):\n",
    "\n",
    "        states, actions, rewards, next_states, dones = experiences\n",
    "\n",
    "        # Implement double Q-learning\n",
    "        Q_argmax = self.qnetwork_local(next_states).detach()\n",
    "        _, a_prime = Q_argmax.max(1)\n",
    "        Q_targets_next = self.qnetwork_target(next_states).gather(1, a_prime.unsqueeze(1))\n",
    "        \n",
    "        # Calculate target Q\n",
    "        Q_targets = rewards + (GAMMA * Q_targets_next * (1.0 - dones))\n",
    "        \n",
    "        # Get expected Q\n",
    "        Q_expected = self.qnetwork_local(states).gather(1, actions)\n",
    "        \n",
    "        # Standard mean-squared-error loss function\n",
    "        loss = F.mse_loss(Q_expected, Q_targets)\n",
    "        \n",
    "        # Reset gradients\n",
    "        self.optimizer.zero_grad()\n",
    "        # Perform backpropagation\n",
    "        loss.backward()\n",
    "        # Optimize weights\n",
    "        self.optimizer.step()\n",
    "\n",
    "        # Update networks\n",
    "        self.soft_update(self.qnetwork_local, self.qnetwork_target)"
   ]
  },
  {
   "cell_type": "markdown",
   "metadata": {},
   "source": [
    "### Implementation of the Triple Agent:\n",
    "Same as SingleAgent with two changes:\n",
    " - Prioritized experience replay: https://arxiv.org/abs/1511.05952\n",
    " - Weighted mean-squared-error loss function"
   ]
  },
  {
   "cell_type": "code",
   "execution_count": 12,
   "metadata": {},
   "outputs": [],
   "source": [
    "class TripleAgent(SingleAgent): # Inherit from SingleAgent\n",
    "\n",
    "    def __init__(self):\n",
    "\n",
    "        super(SingleAgent, self).__init__() # Inherit from SingleAgent\n",
    "\n",
    "        self.state_size = STATE_SIZE\n",
    "        self.action_size = ACTION_SIZE\n",
    "        self.seed = random.seed(RANDOM_SEED)\n",
    "        \n",
    "        self.qnetwork_local = QNetwork().to(device) # Use standard network\n",
    "        self.qnetwork_target = QNetwork().to(device) # Use standard network\n",
    "        self.optimizer = optim.Adam(self.qnetwork_local.parameters(), lr=LR) # Initialize Optimizer with new network\n",
    "\n",
    "        self.memory = PriorityReplayBuffer() # use prioritized experience replay\n",
    "        self.t_step = 0\n",
    "\n",
    "    # Calculate beta for bias correction of prioritized experience replay memory\n",
    "    def calculate_beta(self, time):\n",
    "\n",
    "        result = BETA_INITIAL + min(float(time) / MAX_T, 1.0) * (1.0 - BETA_INITIAL)\n",
    "        return result\n",
    "\n",
    "    # Compute individual loss function: weighted-mean-squared-error\n",
    "    def calculate_loss(self, inp, exp, w):\n",
    "\n",
    "        # source: http://forums.fast.ai/t/how-to-make-a-custom-loss-function-pytorch/9059/20\n",
    "        mse = (inp - exp) ** 2.0\n",
    "        result = mse * w.expand_as(mse)\n",
    "        loss = result.mean(0)\n",
    "        return loss\n",
    "    \n",
    "    # Adaption of learning algorithm for prioritized experience replay\n",
    "    def learn(self, experiences, t=MAX_T):\n",
    "\n",
    "        states, actions, rewards, next_states, dones = experiences\n",
    "\n",
    "        # Implement double Q-learning\n",
    "        Q_argmax = self.qnetwork_local(next_states).detach()\n",
    "        _, a_prime = Q_argmax.max(1)\n",
    "        Q_targets_next = self.qnetwork_target(next_states).gather(1, a_prime.unsqueeze(1))\n",
    "        \n",
    "        # Calculate target Q\n",
    "        Q_targets = rewards + (GAMMA * Q_targets_next * (1.0 - dones))\n",
    "        \n",
    "        # Get expected Q\n",
    "        Q_expected = self.qnetwork_local(states).gather(1, actions)\n",
    "\n",
    "        # Update beta for bias correction\n",
    "        beta = self.calculate_beta(t)\n",
    "        # Compute weights\n",
    "        weights = self.memory.calculate_weights(inp_beta=beta)\n",
    "\n",
    "        # Compute error\n",
    "        td_err = Q_targets - Q_expected\n",
    "        # Update memory with error\n",
    "        self.memory.update_priority(td_err)\n",
    "\n",
    "        # Weighted mean-squared-error loss function\n",
    "        loss = self.calculate_loss(Q_targets, Q_expected, weights)\n",
    "        # Reset gradients\n",
    "        self.optimizer.zero_grad()\n",
    "        # Perform backpropagation\n",
    "        loss.backward()\n",
    "        # Optimize weights\n",
    "        self.optimizer.step()\n",
    "\n",
    "        # Update weights\n",
    "        self.soft_update(self.qnetwork_local, self.qnetwork_target)"
   ]
  },
  {
   "cell_type": "markdown",
   "metadata": {},
   "source": [
    "### Implementation of the Quadruple Agent:\n",
    "Same as TripleAgent with one change:\n",
    "- Duelling neural DuelQNetwork instead of standard QNetwork\n",
    "\n",
    "Note that the QuadrupleAgent features many of the improvements used in the Rainbow implementation (https://arxiv.org/abs/1710.02298), which is a state-of-the-art list of improvements and combined implementation for Deep Reinforcement learning."
   ]
  },
  {
   "cell_type": "code",
   "execution_count": 13,
   "metadata": {},
   "outputs": [],
   "source": [
    "class QuadrupleAgent(TripleAgent): # Inherit from TripleAgent\n",
    "\n",
    "    def __init__(self):\n",
    "\n",
    "        super(TripleAgent, self).__init__() # Inherit from TripleAgent\n",
    "\n",
    "        self.state_size = STATE_SIZE\n",
    "        self.action_size = ACTION_SIZE\n",
    "        self.seed = random.seed(RANDOM_SEED)\n",
    "        \n",
    "        self.qnetwork_local = DuelQNetwork().to(device) # Use Duelling network\n",
    "        self.qnetwork_target = DuelQNetwork().to(device) # Use Duelling network\n",
    "        self.optimizer = optim.Adam(self.qnetwork_local.parameters(), lr=LR) # Initialize Optimizer with new network\n",
    "\n",
    "        self.memory = PriorityReplayBuffer() # use prioritized experience replay\n",
    "        self.t_step = 0"
   ]
  },
  {
   "cell_type": "markdown",
   "metadata": {},
   "source": [
    "### Training of agent with Q-learning algorithm\n",
    "Algorithm loops over a maximumN_EPISODES=2000.0 and trains and agent in each episode for up to MAX_T=1000.0 time.\n",
    "\n",
    "- Every 100 episodes the current average score is outputted and the weights are written in a temporary file\n",
    "- Epsilon for the epsilon-greedy policy decays with time\n",
    "- The environment is considered solved if the average score is greater than ENV_SOLVED=200.0\n",
    "- If the environment is solved, the training is stopped and the final weights are written in a file"
   ]
  },
  {
   "cell_type": "code",
   "execution_count": 14,
   "metadata": {},
   "outputs": [],
   "source": [
    "def dqn(agent,filename):\n",
    "    \n",
    "    scores = []                          # list containing scores from each episode\n",
    "    scores_window = deque(maxlen = 100)  # last 100 scores\n",
    "    eps = EPS_START                      # initialize epsilon\n",
    "    \n",
    "    for i_episode in range(1, N_EPISODES + 1):\n",
    "        state = env.reset()                     # reset the environment\n",
    "        score = 0 \n",
    "        \n",
    "        for t in range(MAX_T):\n",
    "            \n",
    "            action = agent.act(state, eps)                 # select an action     \n",
    "            \n",
    "            next_state, reward, done, _ = env.step(action)        # send the action to the environment\n",
    "            \n",
    "            agent.step(state, action, reward, next_state, done) # agent step\n",
    "            \n",
    "            score += reward                                # update the score\n",
    "            state = next_state                             # roll over the state to next time step\n",
    "            if done:                                       # exit loop if episode finished\n",
    "                break\n",
    "\n",
    "        scores_window.append(score)       # save most recent score\n",
    "        scores.append(score)              # save most recent score\n",
    "        \n",
    "        eps = max(EPS_END, EPS_DECAY * eps) # decrease epsilon\n",
    "        \n",
    "        print('\\rEpisode {}\\tAverage Score: {:.2f}'.format(i_episode, np.mean(scores_window)), end=\"\")\n",
    "        \n",
    "        # Output temporary weights file every 100 episodes.\n",
    "        if i_episode % 100 == 0:\n",
    "            print('\\rEpisode {}\\tAverage Score: {:.2f}'.format(i_episode, np.mean(scores_window)))\n",
    "            torch.save(agent.qnetwork_local.state_dict(), filename+'_network_temp.pth')\n",
    "            \n",
    "        # Output final weights file at end of run.    \n",
    "        if np.mean(scores_window) > ENV_SOLVED:\n",
    "            print('\\nEnvironment solved in {:d} episodes!\\tAverage Score: {:.2f}'.format(i_episode, np.mean(scores_window)))\n",
    "            torch.save(agent.qnetwork_local.state_dict(), filename+'_network_final.pth')\n",
    "            break\n",
    "    return scores"
   ]
  },
  {
   "cell_type": "code",
   "execution_count": 15,
   "metadata": {},
   "outputs": [
    {
     "name": "stdout",
     "output_type": "stream",
     "text": [
      "Running on CPU.\n"
     ]
    }
   ],
   "source": [
    "if device == \"cpu\":\n",
    "    print(\"Running on CPU.\")\n",
    "else:\n",
    "    print(\"Running on GPU.\")"
   ]
  },
  {
   "cell_type": "markdown",
   "metadata": {},
   "source": [
    "### Main-loop of the program:\n",
    "In the following cells all the previous implementations come into play.\n",
    "Each agent architecture is subsequently trained and the weights of the final solutions are stored in files.\n",
    "The average training scores are written into files and stored."
   ]
  },
  {
   "cell_type": "code",
   "execution_count": 16,
   "metadata": {},
   "outputs": [
    {
     "name": "stdout",
     "output_type": "stream",
     "text": [
      "\n",
      "SingleAgent Run:\n",
      "\n",
      "Episode 100\tAverage Score: -186.80\n",
      "Episode 200\tAverage Score: -175.91\n",
      "Episode 300\tAverage Score: -103.16\n",
      "Episode 400\tAverage Score: -36.091\n",
      "Episode 500\tAverage Score: -13.93\n",
      "Episode 600\tAverage Score: 0.6300\n",
      "Episode 700\tAverage Score: 190.20\n",
      "Episode 739\tAverage Score: 216.53\n",
      "Environment solved in 739 episodes!\tAverage Score: 216.53\n"
     ]
    }
   ],
   "source": [
    "print(\"\\nSingleAgent Run:\\n\")\n",
    "agent_single = SingleAgent()\n",
    "scores_single = dqn(agent_single, 'single')\n",
    "f = open('scores_single.pckl', 'wb')\n",
    "pickle.dump(scores_single, f)\n",
    "f.close()"
   ]
  },
  {
   "cell_type": "code",
   "execution_count": 17,
   "metadata": {},
   "outputs": [
    {
     "name": "stdout",
     "output_type": "stream",
     "text": [
      "\n",
      "DoubleAgent Run:\n",
      "\n",
      "Episode 100\tAverage Score: -174.75\n",
      "Episode 200\tAverage Score: -86.944\n",
      "Episode 300\tAverage Score: -41.32\n",
      "Episode 400\tAverage Score: -14.63\n",
      "Episode 500\tAverage Score: 135.52\n",
      "Episode 600\tAverage Score: 191.87\n",
      "Episode 700\tAverage Score: 204.10\n",
      "Episode 714\tAverage Score: 215.81\n",
      "Environment solved in 714 episodes!\tAverage Score: 215.81\n"
     ]
    }
   ],
   "source": [
    "print(\"\\nDoubleAgent Run:\\n\")\n",
    "agent_double = DoubleAgent()\n",
    "scores_double = dqn(agent_double, 'double')\n",
    "f = open('scores_double.pckl', 'wb')\n",
    "pickle.dump(scores_double, f)\n",
    "f.close()"
   ]
  },
  {
   "cell_type": "code",
   "execution_count": 18,
   "metadata": {},
   "outputs": [
    {
     "name": "stdout",
     "output_type": "stream",
     "text": [
      "\n",
      "TripleAgent Run:\n",
      "\n",
      "Episode 100\tAverage Score: -166.83\n",
      "Episode 200\tAverage Score: -103.68\n",
      "Episode 300\tAverage Score: -39.790\n",
      "Episode 400\tAverage Score: 4.7283\n",
      "Episode 500\tAverage Score: 27.43\n",
      "Episode 600\tAverage Score: 191.55\n",
      "Episode 632\tAverage Score: 215.58\n",
      "Environment solved in 632 episodes!\tAverage Score: 215.58\n"
     ]
    }
   ],
   "source": [
    "print(\"\\nTripleAgent Run:\\n\")\n",
    "agent_triple = TripleAgent()\n",
    "scores_triple = dqn(agent_triple, 'triple')\n",
    "f = open('scores_triple.pckl', 'wb')\n",
    "pickle.dump(scores_triple, f)\n",
    "f.close()"
   ]
  },
  {
   "cell_type": "code",
   "execution_count": 19,
   "metadata": {},
   "outputs": [
    {
     "name": "stdout",
     "output_type": "stream",
     "text": [
      "\n",
      "QuadrupleAgent Run:\n",
      "\n",
      "Episode 100\tAverage Score: -172.42\n",
      "Episode 200\tAverage Score: -113.78\n",
      "Episode 300\tAverage Score: -76.865\n",
      "Episode 400\tAverage Score: -35.52\n",
      "Episode 500\tAverage Score: 45.312\n",
      "Episode 600\tAverage Score: 172.68\n",
      "Episode 664\tAverage Score: 215.01\n",
      "Environment solved in 664 episodes!\tAverage Score: 215.01\n"
     ]
    }
   ],
   "source": [
    "print(\"\\nQuadrupleAgent Run:\\n\")\n",
    "agent_quadruple = QuadrupleAgent()\n",
    "scores_quadruple = dqn(agent_quadruple, 'quadruple')\n",
    "f = open('scores_quadruple.pckl', 'wb')\n",
    "pickle.dump(scores_quadruple, f)\n",
    "f.close()"
   ]
  },
  {
   "cell_type": "markdown",
   "metadata": {},
   "source": [
    "### The average scores are loaded back from files and plotted."
   ]
  },
  {
   "cell_type": "code",
   "execution_count": 16,
   "metadata": {},
   "outputs": [
    {
     "data": {
      "image/png": "[encoded data removed]",
      "text/plain": [
       "<Figure size 864x864 with 4 Axes>"
      ]
     },
     "metadata": {
      "needs_background": "light"
     },
     "output_type": "display_data"
    },
    {
     "data": {
      "image/png": "[encoded data removed]",
      "text/plain": [
       "<Figure size 576x576 with 1 Axes>"
      ]
     },
     "metadata": {
      "needs_background": "light"
     },
     "output_type": "display_data"
    }
   ],
   "source": [
    "# Definition of helper function to calculate rolling mean\n",
    "def runningMean(y, N):\n",
    "    x = np.asarray(y)\n",
    "    result = np.zeros(len(x))\n",
    "    for i in range(1,len(x)):\n",
    "        if i < int(N):\n",
    "            result[i] = np.mean(x[0:i]) # Fill up first data points where index is smaller than window size\n",
    "        else:\n",
    "            result[i] = np.mean(x[i-N:i]) # Calculate rolling mean where index is larger than window size\n",
    "    return result\n",
    "\n",
    "f = open('scores_single.pckl', 'rb')\n",
    "scores_single = pickle.load(f)\n",
    "f.close()\n",
    "f = open('scores_double.pckl', 'rb')\n",
    "scores_double = pickle.load(f)\n",
    "f.close()\n",
    "f = open('scores_triple.pckl', 'rb')\n",
    "scores_triple = pickle.load(f)\n",
    "f.close()\n",
    "f = open('scores_quadruple.pckl', 'rb')\n",
    "scores_quadruple = pickle.load(f)\n",
    "f.close()\n",
    "\n",
    "# Calculate average scores of all four Agents with the same window=100 as used in the Q-learning algorithm\n",
    "mean_single = runningMean(scores_single, 100)\n",
    "mean_double = runningMean(scores_double, 100)\n",
    "mean_triple = runningMean(scores_triple, 100)\n",
    "mean_quadruple = runningMean(scores_quadruple, 100)\n",
    "\n",
    "# Make four subplots and show results of each agent in one plot\n",
    "fig, axs = plt.subplots(2, 2, figsize=(12,12))\n",
    "axs[0, 0].plot(np.arange(len(scores_single)), scores_single, color=\"Black\")\n",
    "axs[0, 0].plot(np.arange(len(mean_single)), mean_single, 'tab:orange')\n",
    "axs[0, 0].axhline(y=ENV_SOLVED, color=\"Black\")\n",
    "axs[0, 0].set_title('Single Agent')\n",
    "\n",
    "axs[0, 1].plot(np.arange(len(scores_double)), scores_double, color=\"Black\")\n",
    "axs[0, 1].plot(np.arange(len(mean_double)), mean_double, 'tab:blue')\n",
    "axs[0, 1].axhline(y=ENV_SOLVED, color=\"Black\")\n",
    "axs[0, 1].set_title('Double Agent')\n",
    "\n",
    "axs[1, 0].plot(np.arange(len(scores_triple)), scores_triple, color=\"Black\")\n",
    "axs[1, 0].plot(np.arange(len(mean_triple)), mean_triple, 'tab:red')\n",
    "axs[1, 0].axhline(y=ENV_SOLVED, color=\"Black\")\n",
    "axs[1, 0].set_title('Triple Agent')\n",
    "\n",
    "axs[1, 1].plot(np.arange(len(scores_quadruple)), scores_quadruple, color=\"Black\")\n",
    "axs[1, 1].plot(np.arange(len(mean_quadruple)), mean_quadruple, 'tab:green')\n",
    "axs[1, 1].axhline(y=ENV_SOLVED, color=\"Black\")\n",
    "axs[1, 1].set_title('Quadruple Agent')\n",
    "\n",
    "for ax in axs.flat:\n",
    "    ax.set(xlabel='Episode #', ylabel='Score')\n",
    "\n",
    "for ax in axs.flat:\n",
    "    ax.label_outer()\n",
    "\n",
    "# Show averages of all fou agents in a single plot for comparison\n",
    "fig = plt.figure(figsize=(8,8))\n",
    "ax = fig.add_subplot(111)\n",
    "plt.plot(np.arange(len(mean_single)), mean_single, 'tab:orange')\n",
    "plt.plot(np.arange(len(mean_double)), mean_double, 'tab:blue')\n",
    "plt.plot(np.arange(len(mean_triple)), mean_triple, 'tab:red')\n",
    "plt.plot(np.arange(len(mean_quadruple)), mean_quadruple, 'tab:green')\n",
    "\n",
    "plt.axhline(y=ENV_SOLVED, color=\"Black\")\n",
    "\n",
    "plt.title('Comparison of all four Agents')\n",
    "plt.xlabel('Episode #')\n",
    "plt.ylabel('Score')\n",
    "plt.show()"
   ]
  },
  {
   "cell_type": "markdown",
   "metadata": {},
   "source": [
    "### 4. Watch a Smart Agent!\n",
    "\n",
    "In the next code cell, you will load the trained weights from file to watch a smart agent!"
   ]
  },
  {
   "cell_type": "code",
   "execution_count": 17,
   "metadata": {},
   "outputs": [],
   "source": [
    "env = gym.make('LunarLander-v2')\n",
    "env.seed(0)\n",
    "\n",
    "# Specify agent\n",
    "agent = QuadrupleAgent()\n",
    "# load the weights from file\n",
    "agent.qnetwork_local.load_state_dict(torch.load('quadruple_network_final.pth'))\n",
    "\n",
    "for i in range(5):\n",
    "    state = env.reset()\n",
    "    for j in range(1000):\n",
    "        action = agent.act(state)\n",
    "        env.render()\n",
    "        state, reward, done, _ = env.step(action)\n",
    "        if done:\n",
    "            break \n",
    "            \n",
    "env.close()"
   ]
  },
  {
   "cell_type": "code",
   "execution_count": null,
   "metadata": {},
   "outputs": [],
   "source": []
  }
 ],
 "metadata": {
  "kernelspec": {
   "display_name": "Python 3",
   "language": "python",
   "name": "python3"
  },
  "language_info": {
   "codemirror_mode": {
    "name": "ipython",
    "version": 3
   },
   "file_extension": ".py",
   "mimetype": "text/x-python",
   "name": "python",
   "nbconvert_exporter": "python",
   "pygments_lexer": "ipython3",
   "version": "3.7.6"
  }
 },
 "nbformat": 4,
 "nbformat_minor": 2
}
